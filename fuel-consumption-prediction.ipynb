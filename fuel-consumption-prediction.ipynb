{
 "cells": [
  {
   "cell_type": "markdown",
   "metadata": {
    "id": "H_AyODIivoyd"
   },
   "source": [
    "# Predicting Fuel Efficiency of Vehicles\n",
    "\n",
    "This notebook builds an end to end machine learning model to predict fuel consumption of 70s and 80s vehicles.\n",
    "\n",
    "1. **Data Collection** - I'll be using the classic [Auto MPG dataset](http://archive.ics.uci.edu/ml/datasets/Auto+MPG) from UCI ML Repository.\n",
    "2. **Problem Statement** - Frame the problem based on the dataset description and initial exploration.\n",
    "3. **Data Exploration** - Carry our exploratory analysis to figure out the important features and creating new combination of features.\n",
    "4. **Data Preparation** - Create a pipeline of tasks to transform the data to be loaded into our ML models.\n",
    "5. **Modelling** - Training a few models to evaluate their predictions using cross-validation.\n",
    "6. **Hyperparameter Tuning** - Fine tune the hyperparameters for the models that showed promising results.\n",
    "7. **Deploy the Model using a web service** - Using **Flask web framework** to deploy our trained model on **Heroku**"
   ]
  },
  {
   "cell_type": "markdown",
   "metadata": {
    "id": "qESO3ZNCwrDk"
   },
   "source": [
    "## Data Collection"
   ]
  },
  {
   "cell_type": "markdown",
   "metadata": {
    "id": "TS2EBV6axAmh"
   },
   "source": [
    "**Import the tools**"
   ]
  },
  {
   "cell_type": "code",
   "execution_count": 3,
   "metadata": {
    "executionInfo": {
     "elapsed": 1665,
     "status": "ok",
     "timestamp": 1637386718088,
     "user": {
      "displayName": "Shalu",
      "photoUrl": "https://lh3.googleusercontent.com/a/default-user=s64",
      "userId": "12106048683588045750"
     },
     "user_tz": -330
    },
    "id": "aI_pOdbHw660"
   },
   "outputs": [],
   "source": [
    "## Import libraries\n",
    "import numpy as np\n",
    "import pandas as pd\n",
    "import matplotlib.pyplot as plt\n",
    "import seaborn as sns\n",
    "\n",
    "from sklearn.model_selection import StratifiedShuffleSplit\n",
    "from sklearn.base import BaseEstimator, TransformerMixin\n",
    "from sklearn.pipeline import Pipeline\n",
    "\n",
    "from sklearn.impute import SimpleImputer\n",
    "from sklearn.preprocessing import StandardScaler, OneHotEncoder\n",
    "from sklearn.compose import ColumnTransformer\n",
    "from sklearn.model_selection import cross_val_score"
   ]
  },
  {
   "cell_type": "code",
   "execution_count": 4,
   "metadata": {
    "colab": {
     "base_uri": "https://localhost:8080/"
    },
    "executionInfo": {
     "elapsed": 63,
     "status": "ok",
     "timestamp": 1637386719133,
     "user": {
      "displayName": "Shalu",
      "photoUrl": "https://lh3.googleusercontent.com/a/default-user=s64",
      "userId": "12106048683588045750"
     },
     "user_tz": -330
    },
    "id": "gR37rt3YxJwF",
    "outputId": "ef1230ea-3135-45b3-d3a5-197645277e66"
   },
   "outputs": [],
   "source": [
    "# # download the data\n",
    "# !wget \"http://archive.ics.uci.edu/ml/machine-learning-databases/auto-mpg/auto-mpg.data\""
   ]
  },
  {
   "cell_type": "code",
   "execution_count": 5,
   "metadata": {
    "executionInfo": {
     "elapsed": 43,
     "status": "ok",
     "timestamp": 1637386719136,
     "user": {
      "displayName": "Shalu",
      "photoUrl": "https://lh3.googleusercontent.com/a/default-user=s64",
      "userId": "12106048683588045750"
     },
     "user_tz": -330
    },
    "id": "-rkj2ZYuBsND"
   },
   "outputs": [],
   "source": [
    "# Reading the data in a dataframe\n",
    "\n",
    "# define columns\n",
    "cols = ['MPG','Cylinders','Displacement','Horsepower','Weight',\n",
    "                'Acceleration', 'Model Year', 'Origin']\n",
    "\n",
    "auto = pd.read_csv('auto-mpg.data', names=cols, na_values = \"?\",\n",
    "                comment = '\\t',\n",
    "                sep= \" \",\n",
    "                skipinitialspace=True)\n",
    "\n",
    "data = auto.copy()"
   ]
  },
  {
   "cell_type": "code",
   "execution_count": 6,
   "metadata": {
    "colab": {
     "base_uri": "https://localhost:8080/",
     "height": 202
    },
    "executionInfo": {
     "elapsed": 43,
     "status": "ok",
     "timestamp": 1637386719138,
     "user": {
      "displayName": "Shalu",
      "photoUrl": "https://lh3.googleusercontent.com/a/default-user=s64",
      "userId": "12106048683588045750"
     },
     "user_tz": -330
    },
    "id": "GVppBjHNCEPc",
    "outputId": "a0ca6508-c279-4ba2-96af-92eec7c96f43"
   },
   "outputs": [
    {
     "data": {
      "text/html": [
       "<div>\n",
       "<style scoped>\n",
       "    .dataframe tbody tr th:only-of-type {\n",
       "        vertical-align: middle;\n",
       "    }\n",
       "\n",
       "    .dataframe tbody tr th {\n",
       "        vertical-align: top;\n",
       "    }\n",
       "\n",
       "    .dataframe thead th {\n",
       "        text-align: right;\n",
       "    }\n",
       "</style>\n",
       "<table border=\"1\" class=\"dataframe\">\n",
       "  <thead>\n",
       "    <tr style=\"text-align: right;\">\n",
       "      <th></th>\n",
       "      <th>MPG</th>\n",
       "      <th>Cylinders</th>\n",
       "      <th>Displacement</th>\n",
       "      <th>Horsepower</th>\n",
       "      <th>Weight</th>\n",
       "      <th>Acceleration</th>\n",
       "      <th>Model Year</th>\n",
       "      <th>Origin</th>\n",
       "    </tr>\n",
       "  </thead>\n",
       "  <tbody>\n",
       "    <tr>\n",
       "      <th>0</th>\n",
       "      <td>18.0</td>\n",
       "      <td>8</td>\n",
       "      <td>307.0</td>\n",
       "      <td>130.0</td>\n",
       "      <td>3504.0</td>\n",
       "      <td>12.0</td>\n",
       "      <td>70</td>\n",
       "      <td>1</td>\n",
       "    </tr>\n",
       "    <tr>\n",
       "      <th>1</th>\n",
       "      <td>15.0</td>\n",
       "      <td>8</td>\n",
       "      <td>350.0</td>\n",
       "      <td>165.0</td>\n",
       "      <td>3693.0</td>\n",
       "      <td>11.5</td>\n",
       "      <td>70</td>\n",
       "      <td>1</td>\n",
       "    </tr>\n",
       "    <tr>\n",
       "      <th>2</th>\n",
       "      <td>18.0</td>\n",
       "      <td>8</td>\n",
       "      <td>318.0</td>\n",
       "      <td>150.0</td>\n",
       "      <td>3436.0</td>\n",
       "      <td>11.0</td>\n",
       "      <td>70</td>\n",
       "      <td>1</td>\n",
       "    </tr>\n",
       "    <tr>\n",
       "      <th>3</th>\n",
       "      <td>16.0</td>\n",
       "      <td>8</td>\n",
       "      <td>304.0</td>\n",
       "      <td>150.0</td>\n",
       "      <td>3433.0</td>\n",
       "      <td>12.0</td>\n",
       "      <td>70</td>\n",
       "      <td>1</td>\n",
       "    </tr>\n",
       "    <tr>\n",
       "      <th>4</th>\n",
       "      <td>17.0</td>\n",
       "      <td>8</td>\n",
       "      <td>302.0</td>\n",
       "      <td>140.0</td>\n",
       "      <td>3449.0</td>\n",
       "      <td>10.5</td>\n",
       "      <td>70</td>\n",
       "      <td>1</td>\n",
       "    </tr>\n",
       "  </tbody>\n",
       "</table>\n",
       "</div>"
      ],
      "text/plain": [
       "    MPG  Cylinders  Displacement  Horsepower  Weight  Acceleration  \\\n",
       "0  18.0          8         307.0       130.0  3504.0          12.0   \n",
       "1  15.0          8         350.0       165.0  3693.0          11.5   \n",
       "2  18.0          8         318.0       150.0  3436.0          11.0   \n",
       "3  16.0          8         304.0       150.0  3433.0          12.0   \n",
       "4  17.0          8         302.0       140.0  3449.0          10.5   \n",
       "\n",
       "   Model Year  Origin  \n",
       "0          70       1  \n",
       "1          70       1  \n",
       "2          70       1  \n",
       "3          70       1  \n",
       "4          70       1  "
      ]
     },
     "execution_count": 6,
     "metadata": {},
     "output_type": "execute_result"
    }
   ],
   "source": [
    "data.head()"
   ]
  },
  {
   "cell_type": "markdown",
   "metadata": {
    "id": "-2X3LGx7CQQa"
   },
   "source": [
    "## Problem Statement:\n",
    "\n",
    "The data contains MPG variable which is continuous data and tells us about the efficiency of fuel consumption of a vehicle in 70s and 80s.\n",
    "\n",
    "Our aim here is to predict the MPG value for a vehicle given we have other attributes of that vehicle.\n",
    "\n"
   ]
  },
  {
   "cell_type": "markdown",
   "metadata": {
    "id": "8REubh58CnFo"
   },
   "source": [
    "## Exploratory Data Analysis\n",
    "* Check for data type of columns\n",
    "* Check for null values.\n",
    "* Check for outliers\n",
    "* Look for the category distribution in categorical columns\n",
    "* Plot for correlation\n",
    "* Look for new variables"
   ]
  },
  {
   "cell_type": "code",
   "execution_count": 7,
   "metadata": {
    "colab": {
     "base_uri": "https://localhost:8080/"
    },
    "executionInfo": {
     "elapsed": 41,
     "status": "ok",
     "timestamp": 1637386719139,
     "user": {
      "displayName": "Shalu",
      "photoUrl": "https://lh3.googleusercontent.com/a/default-user=s64",
      "userId": "12106048683588045750"
     },
     "user_tz": -330
    },
    "id": "-bF88WaACF9A",
    "outputId": "c963f490-d086-4930-a6c6-bb9ad6233e39"
   },
   "outputs": [
    {
     "name": "stdout",
     "output_type": "stream",
     "text": [
      "<class 'pandas.core.frame.DataFrame'>\n",
      "RangeIndex: 398 entries, 0 to 397\n",
      "Data columns (total 8 columns):\n",
      " #   Column        Non-Null Count  Dtype  \n",
      "---  ------        --------------  -----  \n",
      " 0   MPG           398 non-null    float64\n",
      " 1   Cylinders     398 non-null    int64  \n",
      " 2   Displacement  398 non-null    float64\n",
      " 3   Horsepower    392 non-null    float64\n",
      " 4   Weight        398 non-null    float64\n",
      " 5   Acceleration  398 non-null    float64\n",
      " 6   Model Year    398 non-null    int64  \n",
      " 7   Origin        398 non-null    int64  \n",
      "dtypes: float64(5), int64(3)\n",
      "memory usage: 25.0 KB\n"
     ]
    }
   ],
   "source": [
    "##checking the data info\n",
    "data.info()"
   ]
  },
  {
   "cell_type": "code",
   "execution_count": 8,
   "metadata": {
    "colab": {
     "base_uri": "https://localhost:8080/"
    },
    "executionInfo": {
     "elapsed": 30,
     "status": "ok",
     "timestamp": 1637386719141,
     "user": {
      "displayName": "Shalu",
      "photoUrl": "https://lh3.googleusercontent.com/a/default-user=s64",
      "userId": "12106048683588045750"
     },
     "user_tz": -330
    },
    "id": "CJzGbnuSCrrp",
    "outputId": "88f0f399-3a41-4764-b8fb-b3907eff47d7"
   },
   "outputs": [
    {
     "data": {
      "text/plain": [
       "MPG             0\n",
       "Cylinders       0\n",
       "Displacement    0\n",
       "Horsepower      6\n",
       "Weight          0\n",
       "Acceleration    0\n",
       "Model Year      0\n",
       "Origin          0\n",
       "dtype: int64"
      ]
     },
     "execution_count": 8,
     "metadata": {},
     "output_type": "execute_result"
    }
   ],
   "source": [
    "## checking for all the null values\n",
    "data.isnull().sum()"
   ]
  },
  {
   "cell_type": "code",
   "execution_count": 9,
   "metadata": {
    "colab": {
     "base_uri": "https://localhost:8080/",
     "height": 294
    },
    "executionInfo": {
     "elapsed": 1147,
     "status": "ok",
     "timestamp": 1637386720264,
     "user": {
      "displayName": "Shalu",
      "photoUrl": "https://lh3.googleusercontent.com/a/default-user=s64",
      "userId": "12106048683588045750"
     },
     "user_tz": -330
    },
    "id": "2RRbccM5Cz4C",
    "outputId": "2fb2af32-eb8d-4450-973e-1bcef6730a29"
   },
   "outputs": [
    {
     "data": {
      "text/html": [
       "<div>\n",
       "<style scoped>\n",
       "    .dataframe tbody tr th:only-of-type {\n",
       "        vertical-align: middle;\n",
       "    }\n",
       "\n",
       "    .dataframe tbody tr th {\n",
       "        vertical-align: top;\n",
       "    }\n",
       "\n",
       "    .dataframe thead th {\n",
       "        text-align: right;\n",
       "    }\n",
       "</style>\n",
       "<table border=\"1\" class=\"dataframe\">\n",
       "  <thead>\n",
       "    <tr style=\"text-align: right;\">\n",
       "      <th></th>\n",
       "      <th>MPG</th>\n",
       "      <th>Cylinders</th>\n",
       "      <th>Displacement</th>\n",
       "      <th>Horsepower</th>\n",
       "      <th>Weight</th>\n",
       "      <th>Acceleration</th>\n",
       "      <th>Model Year</th>\n",
       "      <th>Origin</th>\n",
       "    </tr>\n",
       "  </thead>\n",
       "  <tbody>\n",
       "    <tr>\n",
       "      <th>count</th>\n",
       "      <td>398.000000</td>\n",
       "      <td>398.000000</td>\n",
       "      <td>398.000000</td>\n",
       "      <td>392.000000</td>\n",
       "      <td>398.000000</td>\n",
       "      <td>398.000000</td>\n",
       "      <td>398.000000</td>\n",
       "      <td>398.000000</td>\n",
       "    </tr>\n",
       "    <tr>\n",
       "      <th>mean</th>\n",
       "      <td>23.514573</td>\n",
       "      <td>5.454774</td>\n",
       "      <td>193.425879</td>\n",
       "      <td>104.469388</td>\n",
       "      <td>2970.424623</td>\n",
       "      <td>15.568090</td>\n",
       "      <td>76.010050</td>\n",
       "      <td>1.572864</td>\n",
       "    </tr>\n",
       "    <tr>\n",
       "      <th>std</th>\n",
       "      <td>7.815984</td>\n",
       "      <td>1.701004</td>\n",
       "      <td>104.269838</td>\n",
       "      <td>38.491160</td>\n",
       "      <td>846.841774</td>\n",
       "      <td>2.757689</td>\n",
       "      <td>3.697627</td>\n",
       "      <td>0.802055</td>\n",
       "    </tr>\n",
       "    <tr>\n",
       "      <th>min</th>\n",
       "      <td>9.000000</td>\n",
       "      <td>3.000000</td>\n",
       "      <td>68.000000</td>\n",
       "      <td>46.000000</td>\n",
       "      <td>1613.000000</td>\n",
       "      <td>8.000000</td>\n",
       "      <td>70.000000</td>\n",
       "      <td>1.000000</td>\n",
       "    </tr>\n",
       "    <tr>\n",
       "      <th>25%</th>\n",
       "      <td>17.500000</td>\n",
       "      <td>4.000000</td>\n",
       "      <td>104.250000</td>\n",
       "      <td>75.000000</td>\n",
       "      <td>2223.750000</td>\n",
       "      <td>13.825000</td>\n",
       "      <td>73.000000</td>\n",
       "      <td>1.000000</td>\n",
       "    </tr>\n",
       "    <tr>\n",
       "      <th>50%</th>\n",
       "      <td>23.000000</td>\n",
       "      <td>4.000000</td>\n",
       "      <td>148.500000</td>\n",
       "      <td>93.500000</td>\n",
       "      <td>2803.500000</td>\n",
       "      <td>15.500000</td>\n",
       "      <td>76.000000</td>\n",
       "      <td>1.000000</td>\n",
       "    </tr>\n",
       "    <tr>\n",
       "      <th>75%</th>\n",
       "      <td>29.000000</td>\n",
       "      <td>8.000000</td>\n",
       "      <td>262.000000</td>\n",
       "      <td>126.000000</td>\n",
       "      <td>3608.000000</td>\n",
       "      <td>17.175000</td>\n",
       "      <td>79.000000</td>\n",
       "      <td>2.000000</td>\n",
       "    </tr>\n",
       "    <tr>\n",
       "      <th>max</th>\n",
       "      <td>46.600000</td>\n",
       "      <td>8.000000</td>\n",
       "      <td>455.000000</td>\n",
       "      <td>230.000000</td>\n",
       "      <td>5140.000000</td>\n",
       "      <td>24.800000</td>\n",
       "      <td>82.000000</td>\n",
       "      <td>3.000000</td>\n",
       "    </tr>\n",
       "  </tbody>\n",
       "</table>\n",
       "</div>"
      ],
      "text/plain": [
       "              MPG   Cylinders  Displacement  Horsepower       Weight  \\\n",
       "count  398.000000  398.000000    398.000000  392.000000   398.000000   \n",
       "mean    23.514573    5.454774    193.425879  104.469388  2970.424623   \n",
       "std      7.815984    1.701004    104.269838   38.491160   846.841774   \n",
       "min      9.000000    3.000000     68.000000   46.000000  1613.000000   \n",
       "25%     17.500000    4.000000    104.250000   75.000000  2223.750000   \n",
       "50%     23.000000    4.000000    148.500000   93.500000  2803.500000   \n",
       "75%     29.000000    8.000000    262.000000  126.000000  3608.000000   \n",
       "max     46.600000    8.000000    455.000000  230.000000  5140.000000   \n",
       "\n",
       "       Acceleration  Model Year      Origin  \n",
       "count    398.000000  398.000000  398.000000  \n",
       "mean      15.568090   76.010050    1.572864  \n",
       "std        2.757689    3.697627    0.802055  \n",
       "min        8.000000   70.000000    1.000000  \n",
       "25%       13.825000   73.000000    1.000000  \n",
       "50%       15.500000   76.000000    1.000000  \n",
       "75%       17.175000   79.000000    2.000000  \n",
       "max       24.800000   82.000000    3.000000  "
      ]
     },
     "execution_count": 9,
     "metadata": {},
     "output_type": "execute_result"
    }
   ],
   "source": [
    "# summary statistics of quantitative variables\n",
    "data.describe()"
   ]
  },
  {
   "cell_type": "code",
   "execution_count": 10,
   "metadata": {
    "colab": {
     "base_uri": "https://localhost:8080/"
    },
    "executionInfo": {
     "elapsed": 60,
     "status": "ok",
     "timestamp": 1637386720268,
     "user": {
      "displayName": "Shalu",
      "photoUrl": "https://lh3.googleusercontent.com/a/default-user=s64",
      "userId": "12106048683588045750"
     },
     "user_tz": -330
    },
    "id": "4h5uvSbk_6HJ",
    "outputId": "a115d834-6a29-4b8f-9a1f-d31cdb5341c8"
   },
   "outputs": [
    {
     "data": {
      "text/plain": [
       "1    249\n",
       "3     79\n",
       "2     70\n",
       "Name: Origin, dtype: int64"
      ]
     },
     "execution_count": 10,
     "metadata": {},
     "output_type": "execute_result"
    }
   ],
   "source": [
    "data[\"Origin\"].value_counts()"
   ]
  },
  {
   "cell_type": "code",
   "execution_count": 11,
   "metadata": {
    "colab": {
     "base_uri": "https://localhost:8080/",
     "height": 296
    },
    "executionInfo": {
     "elapsed": 49,
     "status": "ok",
     "timestamp": 1637386720271,
     "user": {
      "displayName": "Shalu",
      "photoUrl": "https://lh3.googleusercontent.com/a/default-user=s64",
      "userId": "12106048683588045750"
     },
     "user_tz": -330
    },
    "id": "L8kTXLt-C4XM",
    "outputId": "f2c85ccc-65fb-43d1-e3fc-f57a2863a28e"
   },
   "outputs": [
    {
     "data": {
      "text/plain": [
       "<AxesSubplot:xlabel='Horsepower'>"
      ]
     },
     "execution_count": 11,
     "metadata": {},
     "output_type": "execute_result"
    },
    {
     "data": {
      "image/png": "[encoded data removed]",
      "text/plain": [
       "<Figure size 432x288 with 1 Axes>"
      ]
     },
     "metadata": {
      "needs_background": "light"
     },
     "output_type": "display_data"
    }
   ],
   "source": [
    "# let's visualize\n",
    "sns.boxplot(x=data['Horsepower'])"
   ]
  },
  {
   "cell_type": "code",
   "execution_count": 12,
   "metadata": {
    "executionInfo": {
     "elapsed": 45,
     "status": "ok",
     "timestamp": 1637386720279,
     "user": {
      "displayName": "Shalu",
      "photoUrl": "https://lh3.googleusercontent.com/a/default-user=s64",
      "userId": "12106048683588045750"
     },
     "user_tz": -330
    },
    "id": "oFzsT1nHC-a3"
   },
   "outputs": [],
   "source": [
    "# # imputing the values with median\n",
    "# median = data['Horsepower'].median()\n",
    "# data['Horsepower'] = data['Horsepower'].fillna(median)\n",
    "# data.info()"
   ]
  },
  {
   "cell_type": "code",
   "execution_count": 13,
   "metadata": {
    "colab": {
     "base_uri": "https://localhost:8080/"
    },
    "executionInfo": {
     "elapsed": 46,
     "status": "ok",
     "timestamp": 1637386720281,
     "user": {
      "displayName": "Shalu",
      "photoUrl": "https://lh3.googleusercontent.com/a/default-user=s64",
      "userId": "12106048683588045750"
     },
     "user_tz": -330
    },
    "id": "dDXH7_R6DNHA",
    "outputId": "42709c8f-adeb-4fe3-d18d-91521fd2137c"
   },
   "outputs": [
    {
     "data": {
      "text/plain": [
       "MPG             0\n",
       "Cylinders       0\n",
       "Displacement    0\n",
       "Horsepower      6\n",
       "Weight          0\n",
       "Acceleration    0\n",
       "Model Year      0\n",
       "Origin          0\n",
       "dtype: int64"
      ]
     },
     "execution_count": 13,
     "metadata": {},
     "output_type": "execute_result"
    }
   ],
   "source": [
    "data.isnull().sum()"
   ]
  },
  {
   "cell_type": "code",
   "execution_count": 14,
   "metadata": {
    "colab": {
     "base_uri": "https://localhost:8080/"
    },
    "executionInfo": {
     "elapsed": 41,
     "status": "ok",
     "timestamp": 1637386720284,
     "user": {
      "displayName": "Shalu",
      "photoUrl": "https://lh3.googleusercontent.com/a/default-user=s64",
      "userId": "12106048683588045750"
     },
     "user_tz": -330
    },
    "id": "mSfQlB1gDQVi",
    "outputId": "cfa468c8-898b-4e9e-ab0c-01a92e1e3fa0"
   },
   "outputs": [
    {
     "data": {
      "text/plain": [
       "4    0.512563\n",
       "8    0.258794\n",
       "6    0.211055\n",
       "3    0.010050\n",
       "5    0.007538\n",
       "Name: Cylinders, dtype: float64"
      ]
     },
     "execution_count": 14,
     "metadata": {},
     "output_type": "execute_result"
    }
   ],
   "source": [
    "# category distribution\n",
    "data[\"Cylinders\"].value_counts() / len(data)"
   ]
  },
  {
   "cell_type": "code",
   "execution_count": 15,
   "metadata": {
    "colab": {
     "base_uri": "https://localhost:8080/"
    },
    "executionInfo": {
     "elapsed": 44,
     "status": "ok",
     "timestamp": 1637386720294,
     "user": {
      "displayName": "Shalu",
      "photoUrl": "https://lh3.googleusercontent.com/a/default-user=s64",
      "userId": "12106048683588045750"
     },
     "user_tz": -330
    },
    "id": "KAXbyXZ7DZXN",
    "outputId": "fb90e7bb-ca77-4b49-94a5-0a64c355755a"
   },
   "outputs": [
    {
     "data": {
      "text/plain": [
       "1    249\n",
       "3     79\n",
       "2     70\n",
       "Name: Origin, dtype: int64"
      ]
     },
     "execution_count": 15,
     "metadata": {},
     "output_type": "execute_result"
    }
   ],
   "source": [
    "data['Origin'].value_counts()"
   ]
  },
  {
   "cell_type": "code",
   "execution_count": 16,
   "metadata": {
    "colab": {
     "base_uri": "https://localhost:8080/",
     "height": 921
    },
    "executionInfo": {
     "elapsed": 11388,
     "status": "ok",
     "timestamp": 1637386731645,
     "user": {
      "displayName": "Shalu",
      "photoUrl": "https://lh3.googleusercontent.com/a/default-user=s64",
      "userId": "12106048683588045750"
     },
     "user_tz": -330
    },
    "id": "BH_vG-uMDcD1",
    "outputId": "6af8f7e2-d52b-4893-a416-da104deff104"
   },
   "outputs": [
    {
     "data": {
      "text/plain": [
       "<seaborn.axisgrid.PairGrid at 0x1d347264850>"
      ]
     },
     "execution_count": 16,
     "metadata": {},
     "output_type": "execute_result"
    },
    {
     "data": {
      "image/png": "[encoded data removed]",
      "text/plain": [
       "<Figure size 900x900 with 30 Axes>"
      ]
     },
     "metadata": {
      "needs_background": "light"
     },
     "output_type": "display_data"
    }
   ],
   "source": [
    "# visualize correlaions through pairplot\n",
    "sns.pairplot(data[[\"MPG\", \"Cylinders\", \"Displacement\", \"Weight\", \"Horsepower\"]], diag_kind=\"kde\")"
   ]
  },
  {
   "cell_type": "markdown",
   "metadata": {
    "id": "MJLdvKzMF5Os"
   },
   "source": [
    "### Checking correlation matrix w.r.t. MPG"
   ]
  },
  {
   "cell_type": "code",
   "execution_count": 17,
   "metadata": {
    "colab": {
     "base_uri": "https://localhost:8080/"
    },
    "executionInfo": {
     "elapsed": 412,
     "status": "ok",
     "timestamp": 1637386731648,
     "user": {
      "displayName": "Shalu",
      "photoUrl": "https://lh3.googleusercontent.com/a/default-user=s64",
      "userId": "12106048683588045750"
     },
     "user_tz": -330
    },
    "id": "IpdyEly9F3JK",
    "outputId": "4bd78471-30ed-463d-ffd6-c4c41562f814"
   },
   "outputs": [
    {
     "data": {
      "text/plain": [
       "MPG             1.000000\n",
       "Model Year      0.579267\n",
       "Origin          0.563450\n",
       "Acceleration    0.420289\n",
       "Cylinders      -0.775396\n",
       "Horsepower     -0.778427\n",
       "Displacement   -0.804203\n",
       "Weight         -0.831741\n",
       "Name: MPG, dtype: float64"
      ]
     },
     "execution_count": 17,
     "metadata": {},
     "output_type": "execute_result"
    }
   ],
   "source": [
    "corr_matrix = data.corr()\n",
    "corr_matrix['MPG'].sort_values(ascending=False)"
   ]
  },
  {
   "cell_type": "markdown",
   "metadata": {
    "id": "H-CtDZrjGFsL"
   },
   "source": [
    "#### Testing new variables by checking their correlation w.r.t. MPG\n",
    "\n",
    "* Displacement on Power\n",
    "* Weight on cylinder\n",
    "* Acceleration on power\n",
    "* Acceleration on cylinder"
   ]
  },
  {
   "cell_type": "code",
   "execution_count": 18,
   "metadata": {
    "colab": {
     "base_uri": "https://localhost:8080/"
    },
    "executionInfo": {
     "elapsed": 398,
     "status": "ok",
     "timestamp": 1637386731649,
     "user": {
      "displayName": "Shalu",
      "photoUrl": "https://lh3.googleusercontent.com/a/default-user=s64",
      "userId": "12106048683588045750"
     },
     "user_tz": -330
    },
    "id": "jq1J9zzJGCDl",
    "outputId": "f47be021-6dff-43a3-8899-2d0560f2cc5f"
   },
   "outputs": [
    {
     "data": {
      "text/plain": [
       "MPG                      1.000000\n",
       "acceleration_on_cyl      0.732133\n",
       "acceleration_on_power    0.710556\n",
       "Model Year               0.579267\n",
       "Origin                   0.563450\n",
       "Acceleration             0.420289\n",
       "weight_on_cylinder      -0.020778\n",
       "displacement_on_power   -0.572176\n",
       "Cylinders               -0.775396\n",
       "Horsepower              -0.778427\n",
       "Displacement            -0.804203\n",
       "Weight                  -0.831741\n",
       "Name: MPG, dtype: float64"
      ]
     },
     "execution_count": 18,
     "metadata": {},
     "output_type": "execute_result"
    }
   ],
   "source": [
    "# testing new variables by checking their correlation w.r.t. MPG\n",
    "\n",
    "# create a copy of dataframe\n",
    "data_trans = data.copy()\n",
    "\n",
    "# add new features\n",
    "data_trans['displacement_on_power'] = data_trans['Displacement'] / data_trans['Horsepower']\n",
    "data_trans['weight_on_cylinder'] = data_trans['Weight'] / data_trans['Cylinders']\n",
    "data_trans['acceleration_on_power'] = data_trans['Acceleration'] / data_trans['Horsepower']\n",
    "data_trans['acceleration_on_cyl'] = data_trans['Acceleration'] / data_trans['Cylinders']\n",
    "\n",
    "corr_matrix = data_trans.corr()\n",
    "corr_matrix['MPG'].sort_values(ascending=False)"
   ]
  },
  {
   "cell_type": "code",
   "execution_count": 19,
   "metadata": {
    "colab": {
     "base_uri": "https://localhost:8080/",
     "height": 202
    },
    "executionInfo": {
     "elapsed": 392,
     "status": "ok",
     "timestamp": 1637386731652,
     "user": {
      "displayName": "Shalu",
      "photoUrl": "https://lh3.googleusercontent.com/a/default-user=s64",
      "userId": "12106048683588045750"
     },
     "user_tz": -330
    },
    "id": "OwhE5UoG9XB7",
    "outputId": "eb79427a-09ce-4be5-c995-3a4a9183de44"
   },
   "outputs": [
    {
     "data": {
      "text/html": [
       "<div>\n",
       "<style scoped>\n",
       "    .dataframe tbody tr th:only-of-type {\n",
       "        vertical-align: middle;\n",
       "    }\n",
       "\n",
       "    .dataframe tbody tr th {\n",
       "        vertical-align: top;\n",
       "    }\n",
       "\n",
       "    .dataframe thead th {\n",
       "        text-align: right;\n",
       "    }\n",
       "</style>\n",
       "<table border=\"1\" class=\"dataframe\">\n",
       "  <thead>\n",
       "    <tr style=\"text-align: right;\">\n",
       "      <th></th>\n",
       "      <th>MPG</th>\n",
       "      <th>Cylinders</th>\n",
       "      <th>Displacement</th>\n",
       "      <th>Horsepower</th>\n",
       "      <th>Weight</th>\n",
       "      <th>Acceleration</th>\n",
       "      <th>Model Year</th>\n",
       "      <th>Origin</th>\n",
       "      <th>displacement_on_power</th>\n",
       "      <th>weight_on_cylinder</th>\n",
       "      <th>acceleration_on_power</th>\n",
       "      <th>acceleration_on_cyl</th>\n",
       "    </tr>\n",
       "  </thead>\n",
       "  <tbody>\n",
       "    <tr>\n",
       "      <th>0</th>\n",
       "      <td>18.0</td>\n",
       "      <td>8</td>\n",
       "      <td>307.0</td>\n",
       "      <td>130.0</td>\n",
       "      <td>3504.0</td>\n",
       "      <td>12.0</td>\n",
       "      <td>70</td>\n",
       "      <td>1</td>\n",
       "      <td>2.361538</td>\n",
       "      <td>438.000</td>\n",
       "      <td>0.092308</td>\n",
       "      <td>1.5000</td>\n",
       "    </tr>\n",
       "    <tr>\n",
       "      <th>1</th>\n",
       "      <td>15.0</td>\n",
       "      <td>8</td>\n",
       "      <td>350.0</td>\n",
       "      <td>165.0</td>\n",
       "      <td>3693.0</td>\n",
       "      <td>11.5</td>\n",
       "      <td>70</td>\n",
       "      <td>1</td>\n",
       "      <td>2.121212</td>\n",
       "      <td>461.625</td>\n",
       "      <td>0.069697</td>\n",
       "      <td>1.4375</td>\n",
       "    </tr>\n",
       "    <tr>\n",
       "      <th>2</th>\n",
       "      <td>18.0</td>\n",
       "      <td>8</td>\n",
       "      <td>318.0</td>\n",
       "      <td>150.0</td>\n",
       "      <td>3436.0</td>\n",
       "      <td>11.0</td>\n",
       "      <td>70</td>\n",
       "      <td>1</td>\n",
       "      <td>2.120000</td>\n",
       "      <td>429.500</td>\n",
       "      <td>0.073333</td>\n",
       "      <td>1.3750</td>\n",
       "    </tr>\n",
       "    <tr>\n",
       "      <th>3</th>\n",
       "      <td>16.0</td>\n",
       "      <td>8</td>\n",
       "      <td>304.0</td>\n",
       "      <td>150.0</td>\n",
       "      <td>3433.0</td>\n",
       "      <td>12.0</td>\n",
       "      <td>70</td>\n",
       "      <td>1</td>\n",
       "      <td>2.026667</td>\n",
       "      <td>429.125</td>\n",
       "      <td>0.080000</td>\n",
       "      <td>1.5000</td>\n",
       "    </tr>\n",
       "    <tr>\n",
       "      <th>4</th>\n",
       "      <td>17.0</td>\n",
       "      <td>8</td>\n",
       "      <td>302.0</td>\n",
       "      <td>140.0</td>\n",
       "      <td>3449.0</td>\n",
       "      <td>10.5</td>\n",
       "      <td>70</td>\n",
       "      <td>1</td>\n",
       "      <td>2.157143</td>\n",
       "      <td>431.125</td>\n",
       "      <td>0.075000</td>\n",
       "      <td>1.3125</td>\n",
       "    </tr>\n",
       "  </tbody>\n",
       "</table>\n",
       "</div>"
      ],
      "text/plain": [
       "    MPG  Cylinders  Displacement  Horsepower  Weight  Acceleration  \\\n",
       "0  18.0          8         307.0       130.0  3504.0          12.0   \n",
       "1  15.0          8         350.0       165.0  3693.0          11.5   \n",
       "2  18.0          8         318.0       150.0  3436.0          11.0   \n",
       "3  16.0          8         304.0       150.0  3433.0          12.0   \n",
       "4  17.0          8         302.0       140.0  3449.0          10.5   \n",
       "\n",
       "   Model Year  Origin  displacement_on_power  weight_on_cylinder  \\\n",
       "0          70       1               2.361538             438.000   \n",
       "1          70       1               2.121212             461.625   \n",
       "2          70       1               2.120000             429.500   \n",
       "3          70       1               2.026667             429.125   \n",
       "4          70       1               2.157143             431.125   \n",
       "\n",
       "   acceleration_on_power  acceleration_on_cyl  \n",
       "0               0.092308               1.5000  \n",
       "1               0.069697               1.4375  \n",
       "2               0.073333               1.3750  \n",
       "3               0.080000               1.5000  \n",
       "4               0.075000               1.3125  "
      ]
     },
     "execution_count": 19,
     "metadata": {},
     "output_type": "execute_result"
    }
   ],
   "source": [
    "# reminding ourselves of data\n",
    "data_trans.head()"
   ]
  },
  {
   "cell_type": "code",
   "execution_count": 20,
   "metadata": {
    "colab": {
     "base_uri": "https://localhost:8080/"
    },
    "executionInfo": {
     "elapsed": 390,
     "status": "ok",
     "timestamp": 1637386731654,
     "user": {
      "displayName": "Shalu",
      "photoUrl": "https://lh3.googleusercontent.com/a/default-user=s64",
      "userId": "12106048683588045750"
     },
     "user_tz": -330
    },
    "id": "kzWcZdhR9dfs",
    "outputId": "3e128c1b-c5a9-4491-b381-cead69c40649"
   },
   "outputs": [
    {
     "name": "stdout",
     "output_type": "stream",
     "text": [
      "<class 'pandas.core.frame.DataFrame'>\n",
      "RangeIndex: 398 entries, 0 to 397\n",
      "Data columns (total 12 columns):\n",
      " #   Column                 Non-Null Count  Dtype  \n",
      "---  ------                 --------------  -----  \n",
      " 0   MPG                    398 non-null    float64\n",
      " 1   Cylinders              398 non-null    int64  \n",
      " 2   Displacement           398 non-null    float64\n",
      " 3   Horsepower             392 non-null    float64\n",
      " 4   Weight                 398 non-null    float64\n",
      " 5   Acceleration           398 non-null    float64\n",
      " 6   Model Year             398 non-null    int64  \n",
      " 7   Origin                 398 non-null    int64  \n",
      " 8   displacement_on_power  392 non-null    float64\n",
      " 9   weight_on_cylinder     398 non-null    float64\n",
      " 10  acceleration_on_power  392 non-null    float64\n",
      " 11  acceleration_on_cyl    398 non-null    float64\n",
      "dtypes: float64(9), int64(3)\n",
      "memory usage: 37.4 KB\n"
     ]
    }
   ],
   "source": [
    "data_trans.info()"
   ]
  },
  {
   "cell_type": "code",
   "execution_count": 21,
   "metadata": {
    "colab": {
     "base_uri": "https://localhost:8080/"
    },
    "executionInfo": {
     "elapsed": 382,
     "status": "ok",
     "timestamp": 1637386731657,
     "user": {
      "displayName": "Shalu",
      "photoUrl": "https://lh3.googleusercontent.com/a/default-user=s64",
      "userId": "12106048683588045750"
     },
     "user_tz": -330
    },
    "id": "8TjGYFyI9iU1",
    "outputId": "89163506-03c5-4392-801d-e082fdc11859"
   },
   "outputs": [
    {
     "data": {
      "text/plain": [
       "MPG                      0\n",
       "Cylinders                0\n",
       "Displacement             0\n",
       "Horsepower               6\n",
       "Weight                   0\n",
       "Acceleration             0\n",
       "Model Year               0\n",
       "Origin                   0\n",
       "displacement_on_power    6\n",
       "weight_on_cylinder       0\n",
       "acceleration_on_power    6\n",
       "acceleration_on_cyl      0\n",
       "dtype: int64"
      ]
     },
     "execution_count": 21,
     "metadata": {},
     "output_type": "execute_result"
    }
   ],
   "source": [
    "data_trans.isnull().sum()"
   ]
  },
  {
   "cell_type": "markdown",
   "metadata": {
    "id": "VYzFpfQsGcwT"
   },
   "source": [
    "## Data Preparation\n",
    "\n",
    "* Handling Categorical Functions - **OneHotEncoder**\n",
    "* Data Cleaning - **Imputer**\n",
    "* Attribute Addition - Adding custom transformation\n",
    "* Setting up Data Transformation Pipeline for numerical and categorical column."
   ]
  },
  {
   "cell_type": "markdown",
   "metadata": {
    "id": "F5wSfMz8D9Yt"
   },
   "source": [
    "### Split the data\n",
    "\n",
    "There are many ways to split the data into training and testing sets but we want our test set to represent the overall population and not just a few specific categories. Thus, instead of using simple and common `train_test_split()` method from sklearn, we use stratified sampling.\n",
    "\n",
    "> **Stratified Sampling** — We create homogeneous subgroups called strata from the overall population and sample the right number of instances to each stratum to ensure that the test set is representative of the overall population."
   ]
  },
  {
   "cell_type": "markdown",
   "metadata": {
    "id": "1aWyY7_bEQwd"
   },
   "source": [
    "**Splitting the data using `train_test_split`**"
   ]
  },
  {
   "cell_type": "code",
   "execution_count": 22,
   "metadata": {
    "executionInfo": {
     "elapsed": 373,
     "status": "ok",
     "timestamp": 1637386731659,
     "user": {
      "displayName": "Shalu",
      "photoUrl": "https://lh3.googleusercontent.com/a/default-user=s64",
      "userId": "12106048683588045750"
     },
     "user_tz": -330
    },
    "id": "JC_Fj3YsDvOw"
   },
   "outputs": [],
   "source": [
    "# split the data into training and test sets\n",
    "\n",
    "from sklearn.model_selection import train_test_split\n",
    "tts_train_set, tts_test_set = train_test_split(data, test_size=0.2, random_state=42)"
   ]
  },
  {
   "cell_type": "code",
   "execution_count": 23,
   "metadata": {
    "colab": {
     "base_uri": "https://localhost:8080/"
    },
    "executionInfo": {
     "elapsed": 374,
     "status": "ok",
     "timestamp": 1637386731661,
     "user": {
      "displayName": "Shalu",
      "photoUrl": "https://lh3.googleusercontent.com/a/default-user=s64",
      "userId": "12106048683588045750"
     },
     "user_tz": -330
    },
    "id": "xRfyC62IOhZQ",
    "outputId": "df779513-90d2-4950-d2fc-1bd5cb86bec3"
   },
   "outputs": [
    {
     "data": {
      "text/plain": [
       "((318, 8), (80, 8))"
      ]
     },
     "execution_count": 23,
     "metadata": {},
     "output_type": "execute_result"
    }
   ],
   "source": [
    "tts_train_set.shape, tts_test_set.shape"
   ]
  },
  {
   "cell_type": "code",
   "execution_count": 24,
   "metadata": {
    "colab": {
     "base_uri": "https://localhost:8080/"
    },
    "executionInfo": {
     "elapsed": 363,
     "status": "ok",
     "timestamp": 1637386731662,
     "user": {
      "displayName": "Shalu",
      "photoUrl": "https://lh3.googleusercontent.com/a/default-user=s64",
      "userId": "12106048683588045750"
     },
     "user_tz": -330
    },
    "id": "smf2MerREIGL",
    "outputId": "c2a58a67-6832-4c6f-97b1-422b6b230dcd"
   },
   "outputs": [
    {
     "data": {
      "text/plain": [
       "4    0.509434\n",
       "8    0.248428\n",
       "6    0.220126\n",
       "3    0.012579\n",
       "5    0.009434\n",
       "Name: Cylinders, dtype: float64"
      ]
     },
     "execution_count": 24,
     "metadata": {},
     "output_type": "execute_result"
    }
   ],
   "source": [
    "tts_train_set['Cylinders'].value_counts() / len(tts_train_set)"
   ]
  },
  {
   "cell_type": "code",
   "execution_count": 25,
   "metadata": {
    "colab": {
     "base_uri": "https://localhost:8080/"
    },
    "executionInfo": {
     "elapsed": 357,
     "status": "ok",
     "timestamp": 1637386731664,
     "user": {
      "displayName": "Shalu",
      "photoUrl": "https://lh3.googleusercontent.com/a/default-user=s64",
      "userId": "12106048683588045750"
     },
     "user_tz": -330
    },
    "id": "MmrmriasELJ2",
    "outputId": "0ab0c7bb-072f-4dc1-e43c-28935b3eed1c"
   },
   "outputs": [
    {
     "data": {
      "text/plain": [
       "4    0.525\n",
       "8    0.300\n",
       "6    0.175\n",
       "Name: Cylinders, dtype: float64"
      ]
     },
     "execution_count": 25,
     "metadata": {},
     "output_type": "execute_result"
    }
   ],
   "source": [
    "tts_test_set[\"Cylinders\"].value_counts() / len(tts_test_set)"
   ]
  },
  {
   "cell_type": "markdown",
   "metadata": {
    "id": "Jiil9XtREWdw"
   },
   "source": [
    "**Splitting the data using Stratified sampling**"
   ]
  },
  {
   "cell_type": "code",
   "execution_count": 26,
   "metadata": {
    "executionInfo": {
     "elapsed": 361,
     "status": "ok",
     "timestamp": 1637386731680,
     "user": {
      "displayName": "Shalu",
      "photoUrl": "https://lh3.googleusercontent.com/a/default-user=s64",
      "userId": "12106048683588045750"
     },
     "user_tz": -330
    },
    "id": "2abPfIOGENNF"
   },
   "outputs": [],
   "source": [
    "from sklearn.model_selection import StratifiedShuffleSplit\n",
    "\n",
    "split = StratifiedShuffleSplit(n_splits=1, test_size=0.2, random_state=42)\n",
    "for train_index, test_index in split.split(data, data[\"Cylinders\"]):\n",
    "    strat_train_set = data.loc[train_index]\n",
    "    strat_test_set = data.loc[test_index]"
   ]
  },
  {
   "cell_type": "code",
   "execution_count": 27,
   "metadata": {
    "colab": {
     "base_uri": "https://localhost:8080/"
    },
    "executionInfo": {
     "elapsed": 363,
     "status": "ok",
     "timestamp": 1637386731683,
     "user": {
      "displayName": "Shalu",
      "photoUrl": "https://lh3.googleusercontent.com/a/default-user=s64",
      "userId": "12106048683588045750"
     },
     "user_tz": -330
    },
    "id": "P5QiOB3qEtRd",
    "outputId": "71a9c2b5-aa9d-40d2-ba4d-f672f515c8c7"
   },
   "outputs": [
    {
     "data": {
      "text/plain": [
       "(80, 8)"
      ]
     },
     "execution_count": 27,
     "metadata": {},
     "output_type": "execute_result"
    }
   ],
   "source": [
    "strat_test_set.shape"
   ]
  },
  {
   "cell_type": "code",
   "execution_count": 28,
   "metadata": {
    "colab": {
     "base_uri": "https://localhost:8080/"
    },
    "executionInfo": {
     "elapsed": 353,
     "status": "ok",
     "timestamp": 1637386731684,
     "user": {
      "displayName": "Shalu",
      "photoUrl": "https://lh3.googleusercontent.com/a/default-user=s64",
      "userId": "12106048683588045750"
     },
     "user_tz": -330
    },
    "id": "e8OlMrqdEvQw",
    "outputId": "3be58c5d-b5ff-42ce-8626-b0344c9b9af8"
   },
   "outputs": [
    {
     "data": {
      "text/plain": [
       "4    0.512579\n",
       "8    0.257862\n",
       "6    0.210692\n",
       "5    0.009434\n",
       "3    0.009434\n",
       "Name: Cylinders, dtype: float64"
      ]
     },
     "execution_count": 28,
     "metadata": {},
     "output_type": "execute_result"
    }
   ],
   "source": [
    "# Cylinder category distribution in training set\n",
    "strat_train_set['Cylinders'].value_counts() / len(strat_train_set)"
   ]
  },
  {
   "cell_type": "code",
   "execution_count": 29,
   "metadata": {
    "colab": {
     "base_uri": "https://localhost:8080/"
    },
    "executionInfo": {
     "elapsed": 347,
     "status": "ok",
     "timestamp": 1637386731686,
     "user": {
      "displayName": "Shalu",
      "photoUrl": "https://lh3.googleusercontent.com/a/default-user=s64",
      "userId": "12106048683588045750"
     },
     "user_tz": -330
    },
    "id": "Iohtx-2VE2ey",
    "outputId": "5fe3365b-481a-4888-af83-4364d9ae330e"
   },
   "outputs": [
    {
     "data": {
      "text/plain": [
       "4    0.5125\n",
       "8    0.2625\n",
       "6    0.2125\n",
       "3    0.0125\n",
       "Name: Cylinders, dtype: float64"
      ]
     },
     "execution_count": 29,
     "metadata": {},
     "output_type": "execute_result"
    }
   ],
   "source": [
    "# Cylinder category distribution in testing set\n",
    "strat_test_set[\"Cylinders\"].value_counts() / len(strat_test_set)"
   ]
  },
  {
   "cell_type": "code",
   "execution_count": 30,
   "metadata": {
    "colab": {
     "base_uri": "https://localhost:8080/"
    },
    "executionInfo": {
     "elapsed": 340,
     "status": "ok",
     "timestamp": 1637386731689,
     "user": {
      "displayName": "Shalu",
      "photoUrl": "https://lh3.googleusercontent.com/a/default-user=s64",
      "userId": "12106048683588045750"
     },
     "user_tz": -330
    },
    "id": "OqFGkxVEP8U-",
    "outputId": "195f8cac-2b6c-4700-d44f-35e2e3183765"
   },
   "outputs": [
    {
     "name": "stdout",
     "output_type": "stream",
     "text": [
      "<class 'pandas.core.frame.DataFrame'>\n",
      "Int64Index: 318 entries, 145 to 362\n",
      "Data columns (total 8 columns):\n",
      " #   Column        Non-Null Count  Dtype  \n",
      "---  ------        --------------  -----  \n",
      " 0   MPG           318 non-null    float64\n",
      " 1   Cylinders     318 non-null    int64  \n",
      " 2   Displacement  318 non-null    float64\n",
      " 3   Horsepower    314 non-null    float64\n",
      " 4   Weight        318 non-null    float64\n",
      " 5   Acceleration  318 non-null    float64\n",
      " 6   Model Year    318 non-null    int64  \n",
      " 7   Origin        318 non-null    int64  \n",
      "dtypes: float64(5), int64(3)\n",
      "memory usage: 22.4 KB\n"
     ]
    }
   ],
   "source": [
    "strat_train_set.info()"
   ]
  },
  {
   "cell_type": "code",
   "execution_count": 31,
   "metadata": {
    "colab": {
     "base_uri": "https://localhost:8080/"
    },
    "executionInfo": {
     "elapsed": 335,
     "status": "ok",
     "timestamp": 1637386731693,
     "user": {
      "displayName": "Shalu",
      "photoUrl": "https://lh3.googleusercontent.com/a/default-user=s64",
      "userId": "12106048683588045750"
     },
     "user_tz": -330
    },
    "id": "Cb6283HtQBD5",
    "outputId": "c69f36ce-c0e6-4bd8-acce-5d53f42a63d8"
   },
   "outputs": [
    {
     "name": "stdout",
     "output_type": "stream",
     "text": [
      "<class 'pandas.core.frame.DataFrame'>\n",
      "Int64Index: 80 entries, 128 to 240\n",
      "Data columns (total 8 columns):\n",
      " #   Column        Non-Null Count  Dtype  \n",
      "---  ------        --------------  -----  \n",
      " 0   MPG           80 non-null     float64\n",
      " 1   Cylinders     80 non-null     int64  \n",
      " 2   Displacement  80 non-null     float64\n",
      " 3   Horsepower    78 non-null     float64\n",
      " 4   Weight        80 non-null     float64\n",
      " 5   Acceleration  80 non-null     float64\n",
      " 6   Model Year    80 non-null     int64  \n",
      " 7   Origin        80 non-null     int64  \n",
      "dtypes: float64(5), int64(3)\n",
      "memory usage: 5.6 KB\n"
     ]
    }
   ],
   "source": [
    "strat_test_set.info()"
   ]
  },
  {
   "cell_type": "markdown",
   "metadata": {
    "id": "4RfoejcaKhe9"
   },
   "source": [
    "### Segregating Target and Feature variables"
   ]
  },
  {
   "cell_type": "code",
   "execution_count": 32,
   "metadata": {
    "colab": {
     "base_uri": "https://localhost:8080/",
     "height": 202
    },
    "executionInfo": {
     "elapsed": 329,
     "status": "ok",
     "timestamp": 1637386731697,
     "user": {
      "displayName": "Shalu",
      "photoUrl": "https://lh3.googleusercontent.com/a/default-user=s64",
      "userId": "12106048683588045750"
     },
     "user_tz": -330
    },
    "id": "6ZrsuNMsKpJq",
    "outputId": "98903fc4-3013-4df3-841d-a4fb150cbf7b"
   },
   "outputs": [
    {
     "data": {
      "text/html": [
       "<div>\n",
       "<style scoped>\n",
       "    .dataframe tbody tr th:only-of-type {\n",
       "        vertical-align: middle;\n",
       "    }\n",
       "\n",
       "    .dataframe tbody tr th {\n",
       "        vertical-align: top;\n",
       "    }\n",
       "\n",
       "    .dataframe thead th {\n",
       "        text-align: right;\n",
       "    }\n",
       "</style>\n",
       "<table border=\"1\" class=\"dataframe\">\n",
       "  <thead>\n",
       "    <tr style=\"text-align: right;\">\n",
       "      <th></th>\n",
       "      <th>Cylinders</th>\n",
       "      <th>Displacement</th>\n",
       "      <th>Horsepower</th>\n",
       "      <th>Weight</th>\n",
       "      <th>Acceleration</th>\n",
       "      <th>Model Year</th>\n",
       "      <th>Origin</th>\n",
       "    </tr>\n",
       "  </thead>\n",
       "  <tbody>\n",
       "    <tr>\n",
       "      <th>145</th>\n",
       "      <td>4</td>\n",
       "      <td>83.0</td>\n",
       "      <td>61.0</td>\n",
       "      <td>2003.0</td>\n",
       "      <td>19.0</td>\n",
       "      <td>74</td>\n",
       "      <td>3</td>\n",
       "    </tr>\n",
       "    <tr>\n",
       "      <th>151</th>\n",
       "      <td>4</td>\n",
       "      <td>79.0</td>\n",
       "      <td>67.0</td>\n",
       "      <td>2000.0</td>\n",
       "      <td>16.0</td>\n",
       "      <td>74</td>\n",
       "      <td>2</td>\n",
       "    </tr>\n",
       "    <tr>\n",
       "      <th>388</th>\n",
       "      <td>4</td>\n",
       "      <td>156.0</td>\n",
       "      <td>92.0</td>\n",
       "      <td>2585.0</td>\n",
       "      <td>14.5</td>\n",
       "      <td>82</td>\n",
       "      <td>1</td>\n",
       "    </tr>\n",
       "    <tr>\n",
       "      <th>48</th>\n",
       "      <td>6</td>\n",
       "      <td>250.0</td>\n",
       "      <td>88.0</td>\n",
       "      <td>3139.0</td>\n",
       "      <td>14.5</td>\n",
       "      <td>71</td>\n",
       "      <td>1</td>\n",
       "    </tr>\n",
       "    <tr>\n",
       "      <th>114</th>\n",
       "      <td>4</td>\n",
       "      <td>98.0</td>\n",
       "      <td>90.0</td>\n",
       "      <td>2265.0</td>\n",
       "      <td>15.5</td>\n",
       "      <td>73</td>\n",
       "      <td>2</td>\n",
       "    </tr>\n",
       "  </tbody>\n",
       "</table>\n",
       "</div>"
      ],
      "text/plain": [
       "     Cylinders  Displacement  Horsepower  Weight  Acceleration  Model Year  \\\n",
       "145          4          83.0        61.0  2003.0          19.0          74   \n",
       "151          4          79.0        67.0  2000.0          16.0          74   \n",
       "388          4         156.0        92.0  2585.0          14.5          82   \n",
       "48           6         250.0        88.0  3139.0          14.5          71   \n",
       "114          4          98.0        90.0  2265.0          15.5          73   \n",
       "\n",
       "     Origin  \n",
       "145       3  \n",
       "151       2  \n",
       "388       1  \n",
       "48        1  \n",
       "114       2  "
      ]
     },
     "execution_count": 32,
     "metadata": {},
     "output_type": "execute_result"
    }
   ],
   "source": [
    "train_data = strat_train_set.drop(\"MPG\", axis=1)\n",
    "train_labels = strat_train_set[\"MPG\"]\n",
    "train_data.head()"
   ]
  },
  {
   "cell_type": "markdown",
   "metadata": {
    "id": "qUl4kqtOMl2M"
   },
   "source": [
    "### Preprocessing the Origin Column"
   ]
  },
  {
   "cell_type": "code",
   "execution_count": 33,
   "metadata": {
    "executionInfo": {
     "elapsed": 329,
     "status": "ok",
     "timestamp": 1637386731700,
     "user": {
      "displayName": "Shalu",
      "photoUrl": "https://lh3.googleusercontent.com/a/default-user=s64",
      "userId": "12106048683588045750"
     },
     "user_tz": -330
    },
    "id": "kg-CGwMtMt-z"
   },
   "outputs": [],
   "source": [
    "# define a function to preprocess origin column\n",
    "def preprocess_origin_cols(df):\n",
    "    df_copy = df.copy()\n",
    "    df_copy[\"Origin\"] = df[\"Origin\"].map({1: \"India\", 2: \"USA\", 3: \"Germany\"})\n",
    "    return df_copy"
   ]
  },
  {
   "cell_type": "markdown",
   "metadata": {
    "id": "zXq1etyxN-KQ"
   },
   "source": [
    "### Adding Attributes using BaseEstimator and Transformer"
   ]
  },
  {
   "cell_type": "code",
   "execution_count": 34,
   "metadata": {
    "executionInfo": {
     "elapsed": 330,
     "status": "ok",
     "timestamp": 1637386731702,
     "user": {
      "displayName": "Shalu",
      "photoUrl": "https://lh3.googleusercontent.com/a/default-user=s64",
      "userId": "12106048683588045750"
     },
     "user_tz": -330
    },
    "id": "kfzM7JzBOBNI"
   },
   "outputs": [],
   "source": [
    "from sklearn.base import BaseEstimator, TransformerMixin\n",
    "\n",
    "acc_ix, hpower_ix, cyl_ix = 4, 2, 0\n",
    "\n",
    "class CustomAttrAdder(BaseEstimator, TransformerMixin):\n",
    "    def __init__(self, acc_on_power=True): # no *args or **kargs\n",
    "        self.acc_on_power = acc_on_power\n",
    "    def fit(self, X, y=None):\n",
    "        return self  # nothing else to do\n",
    "    def transform(self, X):\n",
    "        acc_on_cyl = X[:, acc_ix] / X[:, cyl_ix]\n",
    "        if self.acc_on_power:\n",
    "            acc_on_power = X[:, acc_ix] / X[:, hpower_ix]\n",
    "            return np.c_[X, acc_on_power, acc_on_cyl]\n",
    "        \n",
    "        return np.c_[X, acc_on_cyl]\n"
   ]
  },
  {
   "cell_type": "code",
   "execution_count": 35,
   "metadata": {
    "colab": {
     "base_uri": "https://localhost:8080/"
    },
    "executionInfo": {
     "elapsed": 331,
     "status": "ok",
     "timestamp": 1637386731704,
     "user": {
      "displayName": "Shalu",
      "photoUrl": "https://lh3.googleusercontent.com/a/default-user=s64",
      "userId": "12106048683588045750"
     },
     "user_tz": -330
    },
    "id": "3QfZIi5wML5e",
    "outputId": "23f0c20a-cc97-4e30-f5cf-331ae4a3ad37"
   },
   "outputs": [
    {
     "name": "stdout",
     "output_type": "stream",
     "text": [
      "<class 'pandas.core.frame.DataFrame'>\n",
      "Int64Index: 318 entries, 145 to 362\n",
      "Data columns (total 7 columns):\n",
      " #   Column        Non-Null Count  Dtype  \n",
      "---  ------        --------------  -----  \n",
      " 0   Cylinders     318 non-null    int64  \n",
      " 1   Displacement  318 non-null    float64\n",
      " 2   Horsepower    314 non-null    float64\n",
      " 3   Weight        318 non-null    float64\n",
      " 4   Acceleration  318 non-null    float64\n",
      " 5   Model Year    318 non-null    int64  \n",
      " 6   Origin        318 non-null    int64  \n",
      "dtypes: float64(4), int64(3)\n",
      "memory usage: 19.9 KB\n"
     ]
    }
   ],
   "source": [
    "train_data.info()"
   ]
  },
  {
   "cell_type": "code",
   "execution_count": 36,
   "metadata": {
    "colab": {
     "base_uri": "https://localhost:8080/",
     "height": 202
    },
    "executionInfo": {
     "elapsed": 322,
     "status": "ok",
     "timestamp": 1637386731706,
     "user": {
      "displayName": "Shalu",
      "photoUrl": "https://lh3.googleusercontent.com/a/default-user=s64",
      "userId": "12106048683588045750"
     },
     "user_tz": -330
    },
    "id": "xbeUn3n_J2zG",
    "outputId": "20ea99ce-f16f-433a-cdc1-e73785d71cbf"
   },
   "outputs": [
    {
     "data": {
      "text/html": [
       "<div>\n",
       "<style scoped>\n",
       "    .dataframe tbody tr th:only-of-type {\n",
       "        vertical-align: middle;\n",
       "    }\n",
       "\n",
       "    .dataframe tbody tr th {\n",
       "        vertical-align: top;\n",
       "    }\n",
       "\n",
       "    .dataframe thead th {\n",
       "        text-align: right;\n",
       "    }\n",
       "</style>\n",
       "<table border=\"1\" class=\"dataframe\">\n",
       "  <thead>\n",
       "    <tr style=\"text-align: right;\">\n",
       "      <th></th>\n",
       "      <th>Cylinders</th>\n",
       "      <th>Displacement</th>\n",
       "      <th>Horsepower</th>\n",
       "      <th>Weight</th>\n",
       "      <th>Acceleration</th>\n",
       "      <th>Model Year</th>\n",
       "      <th>Origin</th>\n",
       "    </tr>\n",
       "  </thead>\n",
       "  <tbody>\n",
       "    <tr>\n",
       "      <th>145</th>\n",
       "      <td>4</td>\n",
       "      <td>83.0</td>\n",
       "      <td>61.0</td>\n",
       "      <td>2003.0</td>\n",
       "      <td>19.0</td>\n",
       "      <td>74</td>\n",
       "      <td>3</td>\n",
       "    </tr>\n",
       "    <tr>\n",
       "      <th>151</th>\n",
       "      <td>4</td>\n",
       "      <td>79.0</td>\n",
       "      <td>67.0</td>\n",
       "      <td>2000.0</td>\n",
       "      <td>16.0</td>\n",
       "      <td>74</td>\n",
       "      <td>2</td>\n",
       "    </tr>\n",
       "    <tr>\n",
       "      <th>388</th>\n",
       "      <td>4</td>\n",
       "      <td>156.0</td>\n",
       "      <td>92.0</td>\n",
       "      <td>2585.0</td>\n",
       "      <td>14.5</td>\n",
       "      <td>82</td>\n",
       "      <td>1</td>\n",
       "    </tr>\n",
       "    <tr>\n",
       "      <th>48</th>\n",
       "      <td>6</td>\n",
       "      <td>250.0</td>\n",
       "      <td>88.0</td>\n",
       "      <td>3139.0</td>\n",
       "      <td>14.5</td>\n",
       "      <td>71</td>\n",
       "      <td>1</td>\n",
       "    </tr>\n",
       "    <tr>\n",
       "      <th>114</th>\n",
       "      <td>4</td>\n",
       "      <td>98.0</td>\n",
       "      <td>90.0</td>\n",
       "      <td>2265.0</td>\n",
       "      <td>15.5</td>\n",
       "      <td>73</td>\n",
       "      <td>2</td>\n",
       "    </tr>\n",
       "  </tbody>\n",
       "</table>\n",
       "</div>"
      ],
      "text/plain": [
       "     Cylinders  Displacement  Horsepower  Weight  Acceleration  Model Year  \\\n",
       "145          4          83.0        61.0  2003.0          19.0          74   \n",
       "151          4          79.0        67.0  2000.0          16.0          74   \n",
       "388          4         156.0        92.0  2585.0          14.5          82   \n",
       "48           6         250.0        88.0  3139.0          14.5          71   \n",
       "114          4          98.0        90.0  2265.0          15.5          73   \n",
       "\n",
       "     Origin  \n",
       "145       3  \n",
       "151       2  \n",
       "388       1  \n",
       "48        1  \n",
       "114       2  "
      ]
     },
     "execution_count": 36,
     "metadata": {},
     "output_type": "execute_result"
    }
   ],
   "source": [
    "train_data.head()"
   ]
  },
  {
   "cell_type": "code",
   "execution_count": 37,
   "metadata": {
    "colab": {
     "base_uri": "https://localhost:8080/"
    },
    "executionInfo": {
     "elapsed": 323,
     "status": "ok",
     "timestamp": 1637386731710,
     "user": {
      "displayName": "Shalu",
      "photoUrl": "https://lh3.googleusercontent.com/a/default-user=s64",
      "userId": "12106048683588045750"
     },
     "user_tz": -330
    },
    "id": "L1GyMbz0J94r",
    "outputId": "a5e93699-165d-43bc-89e0-dd1995bc380a"
   },
   "outputs": [
    {
     "data": {
      "text/plain": [
       "1    198\n",
       "3     60\n",
       "2     60\n",
       "Name: Origin, dtype: int64"
      ]
     },
     "execution_count": 37,
     "metadata": {},
     "output_type": "execute_result"
    }
   ],
   "source": [
    "train_data['Origin'].value_counts()"
   ]
  },
  {
   "cell_type": "code",
   "execution_count": 38,
   "metadata": {
    "colab": {
     "base_uri": "https://localhost:8080/"
    },
    "executionInfo": {
     "elapsed": 316,
     "status": "ok",
     "timestamp": 1637386731714,
     "user": {
      "displayName": "Shalu",
      "photoUrl": "https://lh3.googleusercontent.com/a/default-user=s64",
      "userId": "12106048683588045750"
     },
     "user_tz": -330
    },
    "id": "uxKFW1rLKDLI",
    "outputId": "222d794d-0dd4-4d12-be33-b874655d4180"
   },
   "outputs": [
    {
     "data": {
      "text/plain": [
       "318"
      ]
     },
     "execution_count": 38,
     "metadata": {},
     "output_type": "execute_result"
    }
   ],
   "source": [
    "198+60+60"
   ]
  },
  {
   "cell_type": "markdown",
   "metadata": {
    "id": "5vU1MA7jOJA-"
   },
   "source": [
    "### Creating a Pipeline of tasks"
   ]
  },
  {
   "cell_type": "code",
   "execution_count": 39,
   "metadata": {
    "executionInfo": {
     "elapsed": 306,
     "status": "ok",
     "timestamp": 1637386731715,
     "user": {
      "displayName": "Shalu",
      "photoUrl": "https://lh3.googleusercontent.com/a/default-user=s64",
      "userId": "12106048683588045750"
     },
     "user_tz": -330
    },
    "id": "VXlne4pfOGde"
   },
   "outputs": [],
   "source": [
    "\n",
    "def pipeline_transformer(data):\n",
    "    '''\n",
    "    Complete transformation pipeline for both nuerical and categorical data.\n",
    "    Argument:\n",
    "        data: original dataframe \n",
    "    Returns:\n",
    "        prepared_data: transformed data, ready to use\n",
    "    '''\n",
    "    \n",
    "    # preprocess the origin column\n",
    "    preprocessed_data = preprocess_origin_cols(data)\n",
    "\n",
    "    # categorical attributes and transformer pipeline\n",
    "    cat_feature = [\"Origin\"]\n",
    "    cat_transformer = Pipeline(steps=[\n",
    "    (\"onehot\", OneHotEncoder(handle_unknown=\"ignore\"))])\n",
    "\n",
    "    # numeric features and transformer pipeline\n",
    "    num_features = ['Cylinders', 'Displacement', 'Horsepower', 'Weight', 'Acceleration', 'Model Year']\n",
    "    num_transformer = Pipeline(steps=[\n",
    "      ('imputer', SimpleImputer(strategy=\"median\")),\n",
    "      ('attrs_adder', CustomAttrAdder()),\n",
    "      ('std_scaler', StandardScaler()),\n",
    "    ])\n",
    "\n",
    "    # Setup preprocessing steps (fill missing values, then convert to numbers)\n",
    "    preprocessor = ColumnTransformer(transformers=[\n",
    "        (\"cat\", cat_transformer, cat_feature),\n",
    "        (\"num\", num_transformer, num_features),\n",
    "        ])\n",
    "    \n",
    "    # apply the transformations on data\n",
    "    transformed_data = preprocessor.fit_transform(preprocessed_data)\n",
    "    return transformed_data"
   ]
  },
  {
   "cell_type": "code",
   "execution_count": 40,
   "metadata": {
    "colab": {
     "base_uri": "https://localhost:8080/",
     "height": 202
    },
    "executionInfo": {
     "elapsed": 306,
     "status": "ok",
     "timestamp": 1637386731717,
     "user": {
      "displayName": "Shalu",
      "photoUrl": "https://lh3.googleusercontent.com/a/default-user=s64",
      "userId": "12106048683588045750"
     },
     "user_tz": -330
    },
    "id": "7PrcV1zOLaQX",
    "outputId": "3a208af1-00e4-4907-f4d9-85405a624d64"
   },
   "outputs": [
    {
     "data": {
      "text/html": [
       "<div>\n",
       "<style scoped>\n",
       "    .dataframe tbody tr th:only-of-type {\n",
       "        vertical-align: middle;\n",
       "    }\n",
       "\n",
       "    .dataframe tbody tr th {\n",
       "        vertical-align: top;\n",
       "    }\n",
       "\n",
       "    .dataframe thead th {\n",
       "        text-align: right;\n",
       "    }\n",
       "</style>\n",
       "<table border=\"1\" class=\"dataframe\">\n",
       "  <thead>\n",
       "    <tr style=\"text-align: right;\">\n",
       "      <th></th>\n",
       "      <th>Cylinders</th>\n",
       "      <th>Displacement</th>\n",
       "      <th>Horsepower</th>\n",
       "      <th>Weight</th>\n",
       "      <th>Acceleration</th>\n",
       "      <th>Model Year</th>\n",
       "      <th>Origin</th>\n",
       "    </tr>\n",
       "  </thead>\n",
       "  <tbody>\n",
       "    <tr>\n",
       "      <th>145</th>\n",
       "      <td>4</td>\n",
       "      <td>83.0</td>\n",
       "      <td>61.0</td>\n",
       "      <td>2003.0</td>\n",
       "      <td>19.0</td>\n",
       "      <td>74</td>\n",
       "      <td>3</td>\n",
       "    </tr>\n",
       "    <tr>\n",
       "      <th>151</th>\n",
       "      <td>4</td>\n",
       "      <td>79.0</td>\n",
       "      <td>67.0</td>\n",
       "      <td>2000.0</td>\n",
       "      <td>16.0</td>\n",
       "      <td>74</td>\n",
       "      <td>2</td>\n",
       "    </tr>\n",
       "    <tr>\n",
       "      <th>388</th>\n",
       "      <td>4</td>\n",
       "      <td>156.0</td>\n",
       "      <td>92.0</td>\n",
       "      <td>2585.0</td>\n",
       "      <td>14.5</td>\n",
       "      <td>82</td>\n",
       "      <td>1</td>\n",
       "    </tr>\n",
       "    <tr>\n",
       "      <th>48</th>\n",
       "      <td>6</td>\n",
       "      <td>250.0</td>\n",
       "      <td>88.0</td>\n",
       "      <td>3139.0</td>\n",
       "      <td>14.5</td>\n",
       "      <td>71</td>\n",
       "      <td>1</td>\n",
       "    </tr>\n",
       "    <tr>\n",
       "      <th>114</th>\n",
       "      <td>4</td>\n",
       "      <td>98.0</td>\n",
       "      <td>90.0</td>\n",
       "      <td>2265.0</td>\n",
       "      <td>15.5</td>\n",
       "      <td>73</td>\n",
       "      <td>2</td>\n",
       "    </tr>\n",
       "  </tbody>\n",
       "</table>\n",
       "</div>"
      ],
      "text/plain": [
       "     Cylinders  Displacement  Horsepower  Weight  Acceleration  Model Year  \\\n",
       "145          4          83.0        61.0  2003.0          19.0          74   \n",
       "151          4          79.0        67.0  2000.0          16.0          74   \n",
       "388          4         156.0        92.0  2585.0          14.5          82   \n",
       "48           6         250.0        88.0  3139.0          14.5          71   \n",
       "114          4          98.0        90.0  2265.0          15.5          73   \n",
       "\n",
       "     Origin  \n",
       "145       3  \n",
       "151       2  \n",
       "388       1  \n",
       "48        1  \n",
       "114       2  "
      ]
     },
     "execution_count": 40,
     "metadata": {},
     "output_type": "execute_result"
    }
   ],
   "source": [
    "# remind ourselves of the data\n",
    "train_data.head()"
   ]
  },
  {
   "cell_type": "markdown",
   "metadata": {
    "id": "XEA2AyyrOnqj"
   },
   "source": [
    "### Preprocessing raw data using pipeline"
   ]
  },
  {
   "cell_type": "code",
   "execution_count": 41,
   "metadata": {
    "executionInfo": {
     "elapsed": 307,
     "status": "ok",
     "timestamp": 1637386731721,
     "user": {
      "displayName": "Shalu",
      "photoUrl": "https://lh3.googleusercontent.com/a/default-user=s64",
      "userId": "12106048683588045750"
     },
     "user_tz": -330
    },
    "id": "PlsrjyfROjtK"
   },
   "outputs": [],
   "source": [
    "# preprocess data\n",
    "train_data_trans = pipeline_transformer(train_data)"
   ]
  },
  {
   "cell_type": "code",
   "execution_count": 42,
   "metadata": {
    "colab": {
     "base_uri": "https://localhost:8080/",
     "height": 202
    },
    "executionInfo": {
     "elapsed": 307,
     "status": "ok",
     "timestamp": 1637386731722,
     "user": {
      "displayName": "Shalu",
      "photoUrl": "https://lh3.googleusercontent.com/a/default-user=s64",
      "userId": "12106048683588045750"
     },
     "user_tz": -330
    },
    "id": "SrH3cNZSLTtg",
    "outputId": "cf4910a5-f477-4854-fe7f-11263c0a0fa0"
   },
   "outputs": [
    {
     "data": {
      "text/html": [
       "<div>\n",
       "<style scoped>\n",
       "    .dataframe tbody tr th:only-of-type {\n",
       "        vertical-align: middle;\n",
       "    }\n",
       "\n",
       "    .dataframe tbody tr th {\n",
       "        vertical-align: top;\n",
       "    }\n",
       "\n",
       "    .dataframe thead th {\n",
       "        text-align: right;\n",
       "    }\n",
       "</style>\n",
       "<table border=\"1\" class=\"dataframe\">\n",
       "  <thead>\n",
       "    <tr style=\"text-align: right;\">\n",
       "      <th></th>\n",
       "      <th>Cylinders</th>\n",
       "      <th>Displacement</th>\n",
       "      <th>Horsepower</th>\n",
       "      <th>Weight</th>\n",
       "      <th>Acceleration</th>\n",
       "      <th>Model Year</th>\n",
       "      <th>Origin</th>\n",
       "    </tr>\n",
       "  </thead>\n",
       "  <tbody>\n",
       "    <tr>\n",
       "      <th>145</th>\n",
       "      <td>4</td>\n",
       "      <td>83.0</td>\n",
       "      <td>61.0</td>\n",
       "      <td>2003.0</td>\n",
       "      <td>19.0</td>\n",
       "      <td>74</td>\n",
       "      <td>3</td>\n",
       "    </tr>\n",
       "    <tr>\n",
       "      <th>151</th>\n",
       "      <td>4</td>\n",
       "      <td>79.0</td>\n",
       "      <td>67.0</td>\n",
       "      <td>2000.0</td>\n",
       "      <td>16.0</td>\n",
       "      <td>74</td>\n",
       "      <td>2</td>\n",
       "    </tr>\n",
       "    <tr>\n",
       "      <th>388</th>\n",
       "      <td>4</td>\n",
       "      <td>156.0</td>\n",
       "      <td>92.0</td>\n",
       "      <td>2585.0</td>\n",
       "      <td>14.5</td>\n",
       "      <td>82</td>\n",
       "      <td>1</td>\n",
       "    </tr>\n",
       "    <tr>\n",
       "      <th>48</th>\n",
       "      <td>6</td>\n",
       "      <td>250.0</td>\n",
       "      <td>88.0</td>\n",
       "      <td>3139.0</td>\n",
       "      <td>14.5</td>\n",
       "      <td>71</td>\n",
       "      <td>1</td>\n",
       "    </tr>\n",
       "    <tr>\n",
       "      <th>114</th>\n",
       "      <td>4</td>\n",
       "      <td>98.0</td>\n",
       "      <td>90.0</td>\n",
       "      <td>2265.0</td>\n",
       "      <td>15.5</td>\n",
       "      <td>73</td>\n",
       "      <td>2</td>\n",
       "    </tr>\n",
       "  </tbody>\n",
       "</table>\n",
       "</div>"
      ],
      "text/plain": [
       "     Cylinders  Displacement  Horsepower  Weight  Acceleration  Model Year  \\\n",
       "145          4          83.0        61.0  2003.0          19.0          74   \n",
       "151          4          79.0        67.0  2000.0          16.0          74   \n",
       "388          4         156.0        92.0  2585.0          14.5          82   \n",
       "48           6         250.0        88.0  3139.0          14.5          71   \n",
       "114          4          98.0        90.0  2265.0          15.5          73   \n",
       "\n",
       "     Origin  \n",
       "145       3  \n",
       "151       2  \n",
       "388       1  \n",
       "48        1  \n",
       "114       2  "
      ]
     },
     "execution_count": 42,
     "metadata": {},
     "output_type": "execute_result"
    }
   ],
   "source": [
    "train_data.head()"
   ]
  },
  {
   "cell_type": "code",
   "execution_count": 43,
   "metadata": {
    "colab": {
     "base_uri": "https://localhost:8080/"
    },
    "executionInfo": {
     "elapsed": 302,
     "status": "ok",
     "timestamp": 1637386731724,
     "user": {
      "displayName": "Shalu",
      "photoUrl": "https://lh3.googleusercontent.com/a/default-user=s64",
      "userId": "12106048683588045750"
     },
     "user_tz": -330
    },
    "id": "z7uB82a9GVlA",
    "outputId": "96870461-6943-457a-f3b8-4357dbd73a09"
   },
   "outputs": [
    {
     "data": {
      "text/plain": [
       "numpy.ndarray"
      ]
     },
     "execution_count": 43,
     "metadata": {},
     "output_type": "execute_result"
    }
   ],
   "source": [
    "type(train_data_trans)"
   ]
  },
  {
   "cell_type": "code",
   "execution_count": 44,
   "metadata": {
    "colab": {
     "base_uri": "https://localhost:8080/"
    },
    "executionInfo": {
     "elapsed": 295,
     "status": "ok",
     "timestamp": 1637386731726,
     "user": {
      "displayName": "Shalu",
      "photoUrl": "https://lh3.googleusercontent.com/a/default-user=s64",
      "userId": "12106048683588045750"
     },
     "user_tz": -330
    },
    "id": "Zq3gE2rhGaZj",
    "outputId": "8b5aca45-cc7e-4b7a-ec3e-5cd847b9e762"
   },
   "outputs": [
    {
     "data": {
      "text/plain": [
       "(318, 11)"
      ]
     },
     "execution_count": 44,
     "metadata": {},
     "output_type": "execute_result"
    }
   ],
   "source": [
    "train_data_trans.shape"
   ]
  },
  {
   "cell_type": "markdown",
   "metadata": {
    "id": "w0hg8FfrPDLJ"
   },
   "source": [
    "## Modelling\n",
    "\n",
    "* Linear Regression\n",
    "* Decision Tree\n",
    "* Random Forest\n",
    "* SVM regressor"
   ]
  },
  {
   "cell_type": "markdown",
   "metadata": {
    "id": "FDcpT4iGPSrl"
   },
   "source": [
    "### Linear Regression\n"
   ]
  },
  {
   "cell_type": "code",
   "execution_count": 45,
   "metadata": {
    "colab": {
     "base_uri": "https://localhost:8080/"
    },
    "executionInfo": {
     "elapsed": 283,
     "status": "ok",
     "timestamp": 1637386731729,
     "user": {
      "displayName": "Shalu",
      "photoUrl": "https://lh3.googleusercontent.com/a/default-user=s64",
      "userId": "12106048683588045750"
     },
     "user_tz": -330
    },
    "id": "B1zoq3r_Oukx",
    "outputId": "27030e13-933a-4888-80e1-c6d213f6ae97"
   },
   "outputs": [
    {
     "data": {
      "text/plain": [
       "LinearRegression()"
      ]
     },
     "execution_count": 45,
     "metadata": {},
     "output_type": "execute_result"
    }
   ],
   "source": [
    "from sklearn.linear_model import LinearRegression\n",
    "\n",
    "lin_reg = LinearRegression()\n",
    "lin_reg.fit(train_data_trans, train_labels)"
   ]
  },
  {
   "cell_type": "code",
   "execution_count": 46,
   "metadata": {
    "colab": {
     "base_uri": "https://localhost:8080/"
    },
    "executionInfo": {
     "elapsed": 276,
     "status": "ok",
     "timestamp": 1637386731731,
     "user": {
      "displayName": "Shalu",
      "photoUrl": "https://lh3.googleusercontent.com/a/default-user=s64",
      "userId": "12106048683588045750"
     },
     "user_tz": -330
    },
    "id": "233gocyGPZA-",
    "outputId": "3ac15a13-4b17-4ad6-ec99-651b8b8eb1ef"
   },
   "outputs": [
    {
     "name": "stdout",
     "output_type": "stream",
     "text": [
      "Prediction of samples:  [29.08069379 27.78336755 26.08031176 12.70419279 22.23454159]\n"
     ]
    }
   ],
   "source": [
    "# predictions using sample data\n",
    "sample_data = train_data.iloc[:5]\n",
    "sample_labels = train_labels.iloc[:5]\n",
    "\n",
    "sample_data_prepared = pipeline_transformer(sample_data)\n",
    "\n",
    "print(\"Prediction of samples: \", lin_reg.predict(sample_data_prepared))"
   ]
  },
  {
   "cell_type": "code",
   "execution_count": 47,
   "metadata": {
    "colab": {
     "base_uri": "https://localhost:8080/"
    },
    "executionInfo": {
     "elapsed": 267,
     "status": "ok",
     "timestamp": 1637386731732,
     "user": {
      "displayName": "Shalu",
      "photoUrl": "https://lh3.googleusercontent.com/a/default-user=s64",
      "userId": "12106048683588045750"
     },
     "user_tz": -330
    },
    "id": "sLz4LTfAPmFO",
    "outputId": "71f26d1d-410e-4dc6-d204-0c77089c8f75"
   },
   "outputs": [
    {
     "name": "stdout",
     "output_type": "stream",
     "text": [
      "Actual Labels of samples:  [32.0, 31.0, 26.0, 18.0, 26.0]\n"
     ]
    }
   ],
   "source": [
    "print(\"Actual Labels of samples: \", list(sample_labels))"
   ]
  },
  {
   "cell_type": "markdown",
   "metadata": {
    "id": "nBmTkI-5PwVS"
   },
   "source": [
    "#### Mean Squared Error"
   ]
  },
  {
   "cell_type": "code",
   "execution_count": 48,
   "metadata": {
    "colab": {
     "base_uri": "https://localhost:8080/"
    },
    "executionInfo": {
     "elapsed": 257,
     "status": "ok",
     "timestamp": 1637386731734,
     "user": {
      "displayName": "Shalu",
      "photoUrl": "https://lh3.googleusercontent.com/a/default-user=s64",
      "userId": "12106048683588045750"
     },
     "user_tz": -330
    },
    "id": "hlbBVVxPPpQg",
    "outputId": "06c168d1-799b-4e3d-cd77-d5615d031652"
   },
   "outputs": [
    {
     "data": {
      "text/plain": [
       "2.959040222576087"
      ]
     },
     "execution_count": 48,
     "metadata": {},
     "output_type": "execute_result"
    }
   ],
   "source": [
    "from sklearn.metrics import mean_squared_error\n",
    "\n",
    "lin_reg_preds = lin_reg.predict(train_data_trans)\n",
    "lin_mse = mean_squared_error(train_labels, lin_reg_preds)\n",
    "lin_rmse = np.sqrt(lin_mse)\n",
    "lin_rmse"
   ]
  },
  {
   "cell_type": "markdown",
   "metadata": {
    "id": "SCZbuQy6Dpei"
   },
   "source": [
    "### Decision Tree"
   ]
  },
  {
   "cell_type": "code",
   "execution_count": 49,
   "metadata": {
    "colab": {
     "base_uri": "https://localhost:8080/"
    },
    "executionInfo": {
     "elapsed": 250,
     "status": "ok",
     "timestamp": 1637386731735,
     "user": {
      "displayName": "Shalu",
      "photoUrl": "https://lh3.googleusercontent.com/a/default-user=s64",
      "userId": "12106048683588045750"
     },
     "user_tz": -330
    },
    "id": "426Pxp9_P4Vc",
    "outputId": "6cb3768f-6425-4f18-92f0-d9c2c67d98bc"
   },
   "outputs": [
    {
     "data": {
      "text/plain": [
       "DecisionTreeRegressor()"
      ]
     },
     "execution_count": 49,
     "metadata": {},
     "output_type": "execute_result"
    }
   ],
   "source": [
    "from sklearn.tree import DecisionTreeRegressor\n",
    "\n",
    "tree_reg = DecisionTreeRegressor()\n",
    "tree_reg.fit(train_data_trans, train_labels)"
   ]
  },
  {
   "cell_type": "code",
   "execution_count": 50,
   "metadata": {
    "colab": {
     "base_uri": "https://localhost:8080/"
    },
    "executionInfo": {
     "elapsed": 241,
     "status": "ok",
     "timestamp": 1637386731736,
     "user": {
      "displayName": "Shalu",
      "photoUrl": "https://lh3.googleusercontent.com/a/default-user=s64",
      "userId": "12106048683588045750"
     },
     "user_tz": -330
    },
    "id": "AQQxIg4hEmDf",
    "outputId": "ff5c2750-28f2-41c6-efc7-ea0e1cf1067c"
   },
   "outputs": [
    {
     "data": {
      "text/plain": [
       "0.0"
      ]
     },
     "execution_count": 50,
     "metadata": {},
     "output_type": "execute_result"
    }
   ],
   "source": [
    "tree_reg_preds = tree_reg.predict(train_data_trans)\n",
    "tree_mse = mean_squared_error(train_labels, tree_reg_preds)\n",
    "tree_rmse = np.sqrt(tree_mse)\n",
    "tree_rmse"
   ]
  },
  {
   "cell_type": "markdown",
   "metadata": {
    "id": "sedxsfYHErEf"
   },
   "source": [
    "But no model is perfect, this means that our model has overfit the data to a great extent.\n",
    "\n",
    "We won't be touching out test data until we finalize our model. So, how do we check for what's happening?"
   ]
  },
  {
   "cell_type": "markdown",
   "metadata": {
    "id": "R5O3PgMsEugW"
   },
   "source": [
    "### Model Evaluation using Cross Validation\n",
    "Scikit-Learn’s `K-fold cross-validation` feature randomly splits the training set into K distinct subsets called folds, then it trains and evaluates the model K times, picking a different fold for evaluation every time and training on the other K-1 folds.\n",
    "\n",
    "The result is an array containing the K evaluation scores:\n"
   ]
  },
  {
   "cell_type": "markdown",
   "metadata": {
    "id": "RhzV6zwdFQ1c"
   },
   "source": [
    "**Linear Regressor evaluation**"
   ]
  },
  {
   "cell_type": "code",
   "execution_count": 51,
   "metadata": {
    "colab": {
     "base_uri": "https://localhost:8080/"
    },
    "executionInfo": {
     "elapsed": 234,
     "status": "ok",
     "timestamp": 1637386731739,
     "user": {
      "displayName": "Shalu",
      "photoUrl": "https://lh3.googleusercontent.com/a/default-user=s64",
      "userId": "12106048683588045750"
     },
     "user_tz": -330
    },
    "id": "edblt8vKFGHM",
    "outputId": "f5763403-90cf-4657-efd4-ba5223ba4a56"
   },
   "outputs": [
    {
     "data": {
      "text/plain": [
       "array([3.43254597, 3.45157629, 3.6621715 , 2.59652976, 2.48023405,\n",
       "       2.74798115, 3.32524647, 2.42208917, 3.78133275, 2.8573747 ])"
      ]
     },
     "execution_count": 51,
     "metadata": {},
     "output_type": "execute_result"
    }
   ],
   "source": [
    "scores = cross_val_score(lin_reg, train_data_trans, train_labels, scoring=\"neg_mean_squared_error\", cv = 10)\n",
    "lin_reg_rmse_scores = np.sqrt(-scores)\n",
    "lin_reg_rmse_scores"
   ]
  },
  {
   "cell_type": "code",
   "execution_count": 52,
   "metadata": {
    "colab": {
     "base_uri": "https://localhost:8080/"
    },
    "executionInfo": {
     "elapsed": 227,
     "status": "ok",
     "timestamp": 1637386731741,
     "user": {
      "displayName": "Shalu",
      "photoUrl": "https://lh3.googleusercontent.com/a/default-user=s64",
      "userId": "12106048683588045750"
     },
     "user_tz": -330
    },
    "id": "EW5ishLjFc_b",
    "outputId": "9b845598-b6dd-4bb3-95bd-aaecd2795033"
   },
   "outputs": [
    {
     "data": {
      "text/plain": [
       "3.0757081793709324"
      ]
     },
     "execution_count": 52,
     "metadata": {},
     "output_type": "execute_result"
    }
   ],
   "source": [
    "lin_reg_rmse_scores.mean()"
   ]
  },
  {
   "cell_type": "markdown",
   "metadata": {
    "id": "dorumszDFJjm"
   },
   "source": [
    "**Decision Tree regressor evaluation**"
   ]
  },
  {
   "cell_type": "code",
   "execution_count": 53,
   "metadata": {
    "executionInfo": {
     "elapsed": 1412,
     "status": "ok",
     "timestamp": 1637386732934,
     "user": {
      "displayName": "Shalu",
      "photoUrl": "https://lh3.googleusercontent.com/a/default-user=s64",
      "userId": "12106048683588045750"
     },
     "user_tz": -330
    },
    "id": "2veaM1AbEopY"
   },
   "outputs": [],
   "source": [
    "from sklearn.model_selection import cross_val_score\n",
    "\n",
    "scores = cross_val_score(tree_reg, \n",
    "                         train_data_trans, \n",
    "                         train_labels, \n",
    "                         scoring=\"neg_mean_squared_error\", \n",
    "                         cv = 10)\n",
    "tree_reg_rmse_scores = np.sqrt(-scores)"
   ]
  },
  {
   "cell_type": "code",
   "execution_count": 54,
   "metadata": {
    "colab": {
     "base_uri": "https://localhost:8080/"
    },
    "executionInfo": {
     "elapsed": 56,
     "status": "ok",
     "timestamp": 1637386732936,
     "user": {
      "displayName": "Shalu",
      "photoUrl": "https://lh3.googleusercontent.com/a/default-user=s64",
      "userId": "12106048683588045750"
     },
     "user_tz": -330
    },
    "id": "VSmJwxhbFBt0",
    "outputId": "53d0291f-6520-4519-8475-0dfeab5d4c86"
   },
   "outputs": [
    {
     "data": {
      "text/plain": [
       "array([3.60490118, 3.19662908, 3.08615862, 3.36999629, 2.30380121,\n",
       "       3.01755282, 3.77855793, 5.03525074, 4.17384328, 2.58076008])"
      ]
     },
     "execution_count": 54,
     "metadata": {},
     "output_type": "execute_result"
    }
   ],
   "source": [
    "tree_reg_rmse_scores"
   ]
  },
  {
   "cell_type": "code",
   "execution_count": 55,
   "metadata": {
    "colab": {
     "base_uri": "https://localhost:8080/"
    },
    "executionInfo": {
     "elapsed": 47,
     "status": "ok",
     "timestamp": 1637386732937,
     "user": {
      "displayName": "Shalu",
      "photoUrl": "https://lh3.googleusercontent.com/a/default-user=s64",
      "userId": "12106048683588045750"
     },
     "user_tz": -330
    },
    "id": "0cBy927BFEJz",
    "outputId": "76eb0d9e-9239-4e43-d8d0-4ac2d5bec57e"
   },
   "outputs": [
    {
     "data": {
      "text/plain": [
       "3.4147451215414484"
      ]
     },
     "execution_count": 55,
     "metadata": {},
     "output_type": "execute_result"
    }
   ],
   "source": [
    "tree_reg_rmse_scores.mean()"
   ]
  },
  {
   "cell_type": "markdown",
   "metadata": {
    "id": "Hc19Hv-8FnSd"
   },
   "source": [
    "### Support Vector Machine Regressor"
   ]
  },
  {
   "cell_type": "code",
   "execution_count": 56,
   "metadata": {
    "colab": {
     "base_uri": "https://localhost:8080/"
    },
    "executionInfo": {
     "elapsed": 39,
     "status": "ok",
     "timestamp": 1637386732938,
     "user": {
      "displayName": "Shalu",
      "photoUrl": "https://lh3.googleusercontent.com/a/default-user=s64",
      "userId": "12106048683588045750"
     },
     "user_tz": -330
    },
    "id": "WI5dhz5wF35S",
    "outputId": "a18a196e-2712-4780-e4ad-b658a658e6d6"
   },
   "outputs": [
    {
     "data": {
      "text/plain": [
       "3.086591620802805"
      ]
     },
     "execution_count": 56,
     "metadata": {},
     "output_type": "execute_result"
    }
   ],
   "source": [
    "from sklearn.svm import SVR\n",
    "\n",
    "svm_reg = SVR(kernel='linear')\n",
    "svm_reg.fit(train_data_trans, train_labels)\n",
    "svm_cv_scores = cross_val_score(svm_reg, train_data_trans, train_labels,\n",
    "                                scoring='neg_mean_squared_error',\n",
    "                                cv = 10)\n",
    "svm_rmse_scores = np.sqrt(-svm_cv_scores)\n",
    "svm_rmse_scores.mean()"
   ]
  },
  {
   "cell_type": "markdown",
   "metadata": {
    "id": "02yxt5LNGCPP"
   },
   "source": [
    "### Random Forest model"
   ]
  },
  {
   "cell_type": "code",
   "execution_count": 57,
   "metadata": {
    "colab": {
     "base_uri": "https://localhost:8080/"
    },
    "executionInfo": {
     "elapsed": 40,
     "status": "ok",
     "timestamp": 1637386732948,
     "user": {
      "displayName": "Shalu",
      "photoUrl": "https://lh3.googleusercontent.com/a/default-user=s64",
      "userId": "12106048683588045750"
     },
     "user_tz": -330
    },
    "id": "iwVmqjByF7rB",
    "outputId": "8a50db74-b260-4e41-cfdc-65f377958ba5"
   },
   "outputs": [
    {
     "data": {
      "text/plain": [
       "2.5726520836693556"
      ]
     },
     "execution_count": 57,
     "metadata": {},
     "output_type": "execute_result"
    }
   ],
   "source": [
    "from sklearn.ensemble import RandomForestRegressor\n",
    "\n",
    "forest_reg = RandomForestRegressor()\n",
    "forest_reg.fit(train_data_trans, train_labels)\n",
    "forest_reg_cv_scores = cross_val_score(forest_reg,\n",
    "                                       train_data_trans,\n",
    "                                       train_labels,\n",
    "                                       scoring='neg_mean_squared_error',\n",
    "                                       cv = 10)\n",
    "\n",
    "forest_reg_rmse_scores = np.sqrt(-forest_reg_cv_scores)\n",
    "forest_reg_rmse_scores.mean()"
   ]
  },
  {
   "cell_type": "markdown",
   "metadata": {
    "id": "1vsmd8P9GM2K"
   },
   "source": [
    "After testing all the models, we observe that `RandomForestRegressor` has performed the best but it still needs to be fine-tuned."
   ]
  },
  {
   "cell_type": "markdown",
   "metadata": {
    "id": "S1t8-JL1GaZp"
   },
   "source": [
    "### Hyperparameter Tuning using GridSearchCV"
   ]
  },
  {
   "cell_type": "code",
   "execution_count": 58,
   "metadata": {
    "colab": {
     "base_uri": "https://localhost:8080/"
    },
    "executionInfo": {
     "elapsed": 4713,
     "status": "ok",
     "timestamp": 1637386737636,
     "user": {
      "displayName": "Shalu",
      "photoUrl": "https://lh3.googleusercontent.com/a/default-user=s64",
      "userId": "12106048683588045750"
     },
     "user_tz": -330
    },
    "id": "NFWPgrrbGHNy",
    "outputId": "f97fb5da-e526-4dd3-ccd0-0d98205fbf44"
   },
   "outputs": [
    {
     "data": {
      "text/plain": [
       "GridSearchCV(cv=10, estimator=RandomForestRegressor(),\n",
       "             param_grid=[{'max_features': [2, 4, 6, 8],\n",
       "                          'n_estimators': [3, 10, 30]},\n",
       "                         {'bootstrap': [False], 'max_features': [2, 3, 4],\n",
       "                          'n_estimators': [3, 10]}],\n",
       "             return_train_score=True, scoring='neg_mean_squared_error')"
      ]
     },
     "execution_count": 58,
     "metadata": {},
     "output_type": "execute_result"
    }
   ],
   "source": [
    "from sklearn.model_selection import GridSearchCV\n",
    "\n",
    "param_grid = [\n",
    "    {'n_estimators': [3, 10, 30], 'max_features': [2, 4, 6, 8]},\n",
    "    {'bootstrap': [False], 'n_estimators': [3, 10], 'max_features': [2, 3, 4]},\n",
    "  ]\n",
    "\n",
    "forest_reg = RandomForestRegressor()\n",
    "\n",
    "grid_search = GridSearchCV(forest_reg, param_grid,\n",
    "                           scoring='neg_mean_squared_error',\n",
    "                           return_train_score=True,\n",
    "                           cv=10,\n",
    "                          )\n",
    "\n",
    "grid_search.fit(train_data_trans, train_labels)"
   ]
  },
  {
   "cell_type": "code",
   "execution_count": 59,
   "metadata": {
    "colab": {
     "base_uri": "https://localhost:8080/"
    },
    "executionInfo": {
     "elapsed": 74,
     "status": "ok",
     "timestamp": 1637386737637,
     "user": {
      "displayName": "Shalu",
      "photoUrl": "https://lh3.googleusercontent.com/a/default-user=s64",
      "userId": "12106048683588045750"
     },
     "user_tz": -330
    },
    "id": "cLdJF6HUGlxK",
    "outputId": "794c20a6-188a-49d8-d8b7-54faa88033f0"
   },
   "outputs": [
    {
     "name": "stdout",
     "output_type": "stream",
     "text": [
      "3.639702125671835 {'max_features': 2, 'n_estimators': 3}\n",
      "3.165963437231564 {'max_features': 2, 'n_estimators': 10}\n",
      "2.8333414162202866 {'max_features': 2, 'n_estimators': 30}\n",
      "3.296518168317927 {'max_features': 4, 'n_estimators': 3}\n",
      "2.7215182744545308 {'max_features': 4, 'n_estimators': 10}\n",
      "2.770652854296853 {'max_features': 4, 'n_estimators': 30}\n",
      "3.0166908192759734 {'max_features': 6, 'n_estimators': 3}\n",
      "2.8431776861178957 {'max_features': 6, 'n_estimators': 10}\n",
      "2.717794105635532 {'max_features': 6, 'n_estimators': 30}\n",
      "3.1567619754037266 {'max_features': 8, 'n_estimators': 3}\n",
      "2.873062706332065 {'max_features': 8, 'n_estimators': 10}\n",
      "2.717071619292322 {'max_features': 8, 'n_estimators': 30}\n",
      "3.339979815174129 {'bootstrap': False, 'max_features': 2, 'n_estimators': 3}\n",
      "2.9239550104654155 {'bootstrap': False, 'max_features': 2, 'n_estimators': 10}\n",
      "3.33585979523671 {'bootstrap': False, 'max_features': 3, 'n_estimators': 3}\n",
      "2.7921679182075962 {'bootstrap': False, 'max_features': 3, 'n_estimators': 10}\n",
      "3.187081689467733 {'bootstrap': False, 'max_features': 4, 'n_estimators': 3}\n",
      "2.7968582766665286 {'bootstrap': False, 'max_features': 4, 'n_estimators': 10}\n"
     ]
    }
   ],
   "source": [
    "cv_scores = grid_search.cv_results_\n",
    "\n",
    "##printing all the parameters along with their scores\n",
    "for mean_score, params in zip(cv_scores['mean_test_score'], cv_scores[\"params\"]):\n",
    "    print(np.sqrt(-mean_score), params)"
   ]
  },
  {
   "cell_type": "code",
   "execution_count": 60,
   "metadata": {
    "colab": {
     "base_uri": "https://localhost:8080/"
    },
    "executionInfo": {
     "elapsed": 71,
     "status": "ok",
     "timestamp": 1637386737642,
     "user": {
      "displayName": "Shalu",
      "photoUrl": "https://lh3.googleusercontent.com/a/default-user=s64",
      "userId": "12106048683588045750"
     },
     "user_tz": -330
    },
    "id": "nMsyjqFcGgcR",
    "outputId": "dfe4a5f0-fab3-4085-f99c-c9fcd99f3261"
   },
   "outputs": [
    {
     "data": {
      "text/plain": [
       "{'max_features': 8, 'n_estimators': 30}"
      ]
     },
     "execution_count": 60,
     "metadata": {},
     "output_type": "execute_result"
    }
   ],
   "source": [
    "grid_search.best_params_"
   ]
  },
  {
   "cell_type": "markdown",
   "metadata": {
    "id": "cppWsSz0Gz2G"
   },
   "source": [
    "### Checking Feature importance"
   ]
  },
  {
   "cell_type": "code",
   "execution_count": 61,
   "metadata": {
    "colab": {
     "base_uri": "https://localhost:8080/"
    },
    "executionInfo": {
     "elapsed": 65,
     "status": "ok",
     "timestamp": 1637386737648,
     "user": {
      "displayName": "Shalu",
      "photoUrl": "https://lh3.googleusercontent.com/a/default-user=s64",
      "userId": "12106048683588045750"
     },
     "user_tz": -330
    },
    "id": "dEx4ndVKGoqt",
    "outputId": "31314c06-c870-493f-c5aa-495a461f10ee"
   },
   "outputs": [
    {
     "data": {
      "text/plain": [
       "array([0.00186032, 0.00213027, 0.00097121, 0.15478936, 0.19291461,\n",
       "       0.15378162, 0.28995901, 0.01234902, 0.12650085, 0.02278751,\n",
       "       0.04195622])"
      ]
     },
     "execution_count": 61,
     "metadata": {},
     "output_type": "execute_result"
    }
   ],
   "source": [
    "# feature importances \n",
    "\n",
    "feature_importances = grid_search.best_estimator_.feature_importances_\n",
    "feature_importances"
   ]
  },
  {
   "cell_type": "code",
   "execution_count": 62,
   "metadata": {
    "colab": {
     "base_uri": "https://localhost:8080/"
    },
    "executionInfo": {
     "elapsed": 55,
     "status": "ok",
     "timestamp": 1637386737649,
     "user": {
      "displayName": "Shalu",
      "photoUrl": "https://lh3.googleusercontent.com/a/default-user=s64",
      "userId": "12106048683588045750"
     },
     "user_tz": -330
    },
    "id": "OxuAZcjdG3AF",
    "outputId": "ef93c149-44a6-4494-e9b0-90625ab858ef"
   },
   "outputs": [
    {
     "data": {
      "text/plain": [
       "[('acc_on_power', 0.12650084886878984),\n",
       " ('acc_on_cyl', 0.022787512977080617),\n",
       " ('Weight', 0.19291461424438558),\n",
       " ('Origin', 0.012349015249869656),\n",
       " ('Model Year', 0.28995900654983386),\n",
       " ('MPG', 0.0018603188247255382),\n",
       " ('Horsepower', 0.15478936110118888),\n",
       " ('Displacement', 0.0009712125573915351),\n",
       " ('Cylinders', 0.0021302741425220707),\n",
       " ('Acceleration', 0.15378161720042538)]"
      ]
     },
     "execution_count": 62,
     "metadata": {},
     "output_type": "execute_result"
    }
   ],
   "source": [
    "extra_attrs = [\"acc_on_power\", \"acc_on_cyl\"]\n",
    "numerics = ['float64', 'int64']\n",
    "num_attrs = list(data.select_dtypes(include=numerics))\n",
    "\n",
    "attrs = num_attrs + extra_attrs\n",
    "sorted(zip(attrs, feature_importances), reverse=True)"
   ]
  },
  {
   "cell_type": "markdown",
   "metadata": {
    "id": "mT6ClP65HSFI"
   },
   "source": [
    "## Model Evaluation"
   ]
  },
  {
   "cell_type": "code",
   "execution_count": 63,
   "metadata": {
    "colab": {
     "base_uri": "https://localhost:8080/",
     "height": 202
    },
    "executionInfo": {
     "elapsed": 52,
     "status": "ok",
     "timestamp": 1637386737652,
     "user": {
      "displayName": "Shalu",
      "photoUrl": "https://lh3.googleusercontent.com/a/default-user=s64",
      "userId": "12106048683588045750"
     },
     "user_tz": -330
    },
    "id": "d5R5JyphJDDk",
    "outputId": "7462784b-6521-46dd-9835-4ede8177ec04"
   },
   "outputs": [
    {
     "data": {
      "text/html": [
       "<div>\n",
       "<style scoped>\n",
       "    .dataframe tbody tr th:only-of-type {\n",
       "        vertical-align: middle;\n",
       "    }\n",
       "\n",
       "    .dataframe tbody tr th {\n",
       "        vertical-align: top;\n",
       "    }\n",
       "\n",
       "    .dataframe thead th {\n",
       "        text-align: right;\n",
       "    }\n",
       "</style>\n",
       "<table border=\"1\" class=\"dataframe\">\n",
       "  <thead>\n",
       "    <tr style=\"text-align: right;\">\n",
       "      <th></th>\n",
       "      <th>MPG</th>\n",
       "      <th>Cylinders</th>\n",
       "      <th>Displacement</th>\n",
       "      <th>Horsepower</th>\n",
       "      <th>Weight</th>\n",
       "      <th>Acceleration</th>\n",
       "      <th>Model Year</th>\n",
       "      <th>Origin</th>\n",
       "    </tr>\n",
       "  </thead>\n",
       "  <tbody>\n",
       "    <tr>\n",
       "      <th>128</th>\n",
       "      <td>15.0</td>\n",
       "      <td>6</td>\n",
       "      <td>250.0</td>\n",
       "      <td>100.0</td>\n",
       "      <td>3336.0</td>\n",
       "      <td>17.0</td>\n",
       "      <td>74</td>\n",
       "      <td>1</td>\n",
       "    </tr>\n",
       "    <tr>\n",
       "      <th>100</th>\n",
       "      <td>18.0</td>\n",
       "      <td>6</td>\n",
       "      <td>250.0</td>\n",
       "      <td>88.0</td>\n",
       "      <td>3021.0</td>\n",
       "      <td>16.5</td>\n",
       "      <td>73</td>\n",
       "      <td>1</td>\n",
       "    </tr>\n",
       "    <tr>\n",
       "      <th>330</th>\n",
       "      <td>40.9</td>\n",
       "      <td>4</td>\n",
       "      <td>85.0</td>\n",
       "      <td>NaN</td>\n",
       "      <td>1835.0</td>\n",
       "      <td>17.3</td>\n",
       "      <td>80</td>\n",
       "      <td>2</td>\n",
       "    </tr>\n",
       "    <tr>\n",
       "      <th>57</th>\n",
       "      <td>24.0</td>\n",
       "      <td>4</td>\n",
       "      <td>113.0</td>\n",
       "      <td>95.0</td>\n",
       "      <td>2278.0</td>\n",
       "      <td>15.5</td>\n",
       "      <td>72</td>\n",
       "      <td>3</td>\n",
       "    </tr>\n",
       "    <tr>\n",
       "      <th>160</th>\n",
       "      <td>17.0</td>\n",
       "      <td>6</td>\n",
       "      <td>231.0</td>\n",
       "      <td>110.0</td>\n",
       "      <td>3907.0</td>\n",
       "      <td>21.0</td>\n",
       "      <td>75</td>\n",
       "      <td>1</td>\n",
       "    </tr>\n",
       "  </tbody>\n",
       "</table>\n",
       "</div>"
      ],
      "text/plain": [
       "      MPG  Cylinders  Displacement  Horsepower  Weight  Acceleration  \\\n",
       "128  15.0          6         250.0       100.0  3336.0          17.0   \n",
       "100  18.0          6         250.0        88.0  3021.0          16.5   \n",
       "330  40.9          4          85.0         NaN  1835.0          17.3   \n",
       "57   24.0          4         113.0        95.0  2278.0          15.5   \n",
       "160  17.0          6         231.0       110.0  3907.0          21.0   \n",
       "\n",
       "     Model Year  Origin  \n",
       "128          74       1  \n",
       "100          73       1  \n",
       "330          80       2  \n",
       "57           72       3  \n",
       "160          75       1  "
      ]
     },
     "execution_count": 63,
     "metadata": {},
     "output_type": "execute_result"
    }
   ],
   "source": [
    "strat_test_set.head()"
   ]
  },
  {
   "cell_type": "code",
   "execution_count": 64,
   "metadata": {
    "executionInfo": {
     "elapsed": 54,
     "status": "ok",
     "timestamp": 1637386737656,
     "user": {
      "displayName": "Shalu",
      "photoUrl": "https://lh3.googleusercontent.com/a/default-user=s64",
      "userId": "12106048683588045750"
     },
     "user_tz": -330
    },
    "id": "JELWf7cIQMue"
   },
   "outputs": [],
   "source": [
    "# divide the test set into feature and target\n",
    "test_data = strat_test_set.drop(\"MPG\", axis=1)\n",
    "test_labels = strat_test_set[\"MPG\"]"
   ]
  },
  {
   "cell_type": "code",
   "execution_count": 65,
   "metadata": {
    "executionInfo": {
     "elapsed": 391,
     "status": "ok",
     "timestamp": 1637386786495,
     "user": {
      "displayName": "Shalu",
      "photoUrl": "https://lh3.googleusercontent.com/a/default-user=s64",
      "userId": "12106048683588045750"
     },
     "user_tz": -330
    },
    "id": "jWT5smfeQuLu"
   },
   "outputs": [],
   "source": [
    "# make the test data ready for predictions\n",
    "# preprocess data\n",
    "test_data_trans = pipeline_transformer(test_data)"
   ]
  },
  {
   "cell_type": "code",
   "execution_count": 66,
   "metadata": {
    "colab": {
     "base_uri": "https://localhost:8080/",
     "height": 202
    },
    "executionInfo": {
     "elapsed": 1072,
     "status": "ok",
     "timestamp": 1637386800119,
     "user": {
      "displayName": "Shalu",
      "photoUrl": "https://lh3.googleusercontent.com/a/default-user=s64",
      "userId": "12106048683588045750"
     },
     "user_tz": -330
    },
    "id": "heOMx3cS26Co",
    "outputId": "07fade4a-23c8-4d9d-c46b-c9d142413c85"
   },
   "outputs": [
    {
     "data": {
      "text/html": [
       "<div>\n",
       "<style scoped>\n",
       "    .dataframe tbody tr th:only-of-type {\n",
       "        vertical-align: middle;\n",
       "    }\n",
       "\n",
       "    .dataframe tbody tr th {\n",
       "        vertical-align: top;\n",
       "    }\n",
       "\n",
       "    .dataframe thead th {\n",
       "        text-align: right;\n",
       "    }\n",
       "</style>\n",
       "<table border=\"1\" class=\"dataframe\">\n",
       "  <thead>\n",
       "    <tr style=\"text-align: right;\">\n",
       "      <th></th>\n",
       "      <th>Cylinders</th>\n",
       "      <th>Displacement</th>\n",
       "      <th>Horsepower</th>\n",
       "      <th>Weight</th>\n",
       "      <th>Acceleration</th>\n",
       "      <th>Model Year</th>\n",
       "      <th>Origin</th>\n",
       "    </tr>\n",
       "  </thead>\n",
       "  <tbody>\n",
       "    <tr>\n",
       "      <th>128</th>\n",
       "      <td>6</td>\n",
       "      <td>250.0</td>\n",
       "      <td>100.0</td>\n",
       "      <td>3336.0</td>\n",
       "      <td>17.0</td>\n",
       "      <td>74</td>\n",
       "      <td>1</td>\n",
       "    </tr>\n",
       "    <tr>\n",
       "      <th>100</th>\n",
       "      <td>6</td>\n",
       "      <td>250.0</td>\n",
       "      <td>88.0</td>\n",
       "      <td>3021.0</td>\n",
       "      <td>16.5</td>\n",
       "      <td>73</td>\n",
       "      <td>1</td>\n",
       "    </tr>\n",
       "    <tr>\n",
       "      <th>330</th>\n",
       "      <td>4</td>\n",
       "      <td>85.0</td>\n",
       "      <td>NaN</td>\n",
       "      <td>1835.0</td>\n",
       "      <td>17.3</td>\n",
       "      <td>80</td>\n",
       "      <td>2</td>\n",
       "    </tr>\n",
       "    <tr>\n",
       "      <th>57</th>\n",
       "      <td>4</td>\n",
       "      <td>113.0</td>\n",
       "      <td>95.0</td>\n",
       "      <td>2278.0</td>\n",
       "      <td>15.5</td>\n",
       "      <td>72</td>\n",
       "      <td>3</td>\n",
       "    </tr>\n",
       "    <tr>\n",
       "      <th>160</th>\n",
       "      <td>6</td>\n",
       "      <td>231.0</td>\n",
       "      <td>110.0</td>\n",
       "      <td>3907.0</td>\n",
       "      <td>21.0</td>\n",
       "      <td>75</td>\n",
       "      <td>1</td>\n",
       "    </tr>\n",
       "  </tbody>\n",
       "</table>\n",
       "</div>"
      ],
      "text/plain": [
       "     Cylinders  Displacement  Horsepower  Weight  Acceleration  Model Year  \\\n",
       "128          6         250.0       100.0  3336.0          17.0          74   \n",
       "100          6         250.0        88.0  3021.0          16.5          73   \n",
       "330          4          85.0         NaN  1835.0          17.3          80   \n",
       "57           4         113.0        95.0  2278.0          15.5          72   \n",
       "160          6         231.0       110.0  3907.0          21.0          75   \n",
       "\n",
       "     Origin  \n",
       "128       1  \n",
       "100       1  \n",
       "330       2  \n",
       "57        3  \n",
       "160       1  "
      ]
     },
     "execution_count": 66,
     "metadata": {},
     "output_type": "execute_result"
    }
   ],
   "source": [
    "test_data.head()"
   ]
  },
  {
   "cell_type": "code",
   "execution_count": 67,
   "metadata": {
    "executionInfo": {
     "elapsed": 402,
     "status": "ok",
     "timestamp": 1637386888938,
     "user": {
      "displayName": "Shalu",
      "photoUrl": "https://lh3.googleusercontent.com/a/default-user=s64",
      "userId": "12106048683588045750"
     },
     "user_tz": -330
    },
    "id": "o1aZa343HBa_"
   },
   "outputs": [],
   "source": [
    "##capturing the best configuration\n",
    "final_model = grid_search.best_estimator_"
   ]
  },
  {
   "cell_type": "code",
   "execution_count": 68,
   "metadata": {
    "executionInfo": {
     "elapsed": 394,
     "status": "ok",
     "timestamp": 1637387059377,
     "user": {
      "displayName": "Shalu",
      "photoUrl": "https://lh3.googleusercontent.com/a/default-user=s64",
      "userId": "12106048683588045750"
     },
     "user_tz": -330
    },
    "id": "0uXlpbgzJxI4"
   },
   "outputs": [],
   "source": [
    "# making final predictions on test data\n",
    "test_preds = final_model.predict(test_data_trans)\n",
    "test_mse = mean_squared_error(test_labels, test_preds)\n",
    "test_rmse = np.sqrt(test_mse)"
   ]
  },
  {
   "cell_type": "code",
   "execution_count": 69,
   "metadata": {
    "colab": {
     "base_uri": "https://localhost:8080/"
    },
    "executionInfo": {
     "elapsed": 408,
     "status": "ok",
     "timestamp": 1637387062407,
     "user": {
      "displayName": "Shalu",
      "photoUrl": "https://lh3.googleusercontent.com/a/default-user=s64",
      "userId": "12106048683588045750"
     },
     "user_tz": -330
    },
    "id": "93N9pMWbJ6V2",
    "outputId": "8560b5a5-3b39-417f-a6c3-5833fda31fbb"
   },
   "outputs": [
    {
     "data": {
      "text/plain": [
       "2.92352925987296"
      ]
     },
     "execution_count": 69,
     "metadata": {},
     "output_type": "execute_result"
    }
   ],
   "source": [
    "test_rmse"
   ]
  },
  {
   "cell_type": "markdown",
   "metadata": {
    "id": "q6tosUZx4x_U"
   },
   "source": [
    "## Function to cover the end-to-end flow"
   ]
  },
  {
   "cell_type": "code",
   "execution_count": 70,
   "metadata": {
    "executionInfo": {
     "elapsed": 386,
     "status": "ok",
     "timestamp": 1637387429732,
     "user": {
      "displayName": "Shalu",
      "photoUrl": "https://lh3.googleusercontent.com/a/default-user=s64",
      "userId": "12106048683588045750"
     },
     "user_tz": -330
    },
    "id": "KGiXuxz03tm0"
   },
   "outputs": [],
   "source": [
    "# define a function to take input data and predict the mpg value using our best model\n",
    "\n",
    "def predict_mpg(config, model):\n",
    "    \n",
    "    if type(config) == dict:\n",
    "        df = pd.DataFrame(config)\n",
    "    else:\n",
    "        df = config\n",
    "    \n",
    "    transformed_df = pipeline_transformer(df)\n",
    "    y_pred = model.predict(transformed_df)\n",
    "    return y_pred"
   ]
  },
  {
   "cell_type": "code",
   "execution_count": 71,
   "metadata": {
    "colab": {
     "base_uri": "https://localhost:8080/"
    },
    "executionInfo": {
     "elapsed": 431,
     "status": "ok",
     "timestamp": 1637387521228,
     "user": {
      "displayName": "Shalu",
      "photoUrl": "https://lh3.googleusercontent.com/a/default-user=s64",
      "userId": "12106048683588045750"
     },
     "user_tz": -330
    },
    "id": "5hDITchN5WN0",
    "outputId": "50340381-f253-44f3-85b7-edea81200ce8"
   },
   "outputs": [
    {
     "data": {
      "text/plain": [
       "array([33.85666667, 17.99333333, 21.69666667])"
      ]
     },
     "execution_count": 71,
     "metadata": {},
     "output_type": "execute_result"
    }
   ],
   "source": [
    "##checking it on a random sample\n",
    "vehicle_config = {\n",
    "    'Cylinders': [4, 6, 8],\n",
    "    'Displacement': [155.0, 160.0, 165.5],\n",
    "    'Horsepower': [93.0, 130.0, 98.0],\n",
    "    'Weight': [2500.0, 3150.0, 2600.0],\n",
    "    'Acceleration': [15.0, 14.0, 16.0],\n",
    "    'Model Year': [81, 80, 78],\n",
    "    'Origin': [3, 2, 1]\n",
    "}\n",
    "\n",
    "predict_mpg(vehicle_config, final_model)"
   ]
  },
  {
   "cell_type": "markdown",
   "metadata": {
    "id": "iynTolea5z-v"
   },
   "source": [
    "## Save the Model"
   ]
  },
  {
   "cell_type": "code",
   "execution_count": 72,
   "metadata": {
    "executionInfo": {
     "elapsed": 9,
     "status": "ok",
     "timestamp": 1637387714064,
     "user": {
      "displayName": "Shalu",
      "photoUrl": "https://lh3.googleusercontent.com/a/default-user=s64",
      "userId": "12106048683588045750"
     },
     "user_tz": -330
    },
    "id": "4xqKTv7K5sig"
   },
   "outputs": [],
   "source": [
    "import pickle"
   ]
  },
  {
   "cell_type": "code",
   "execution_count": 73,
   "metadata": {
    "executionInfo": {
     "elapsed": 385,
     "status": "ok",
     "timestamp": 1637387828589,
     "user": {
      "displayName": "Shalu",
      "photoUrl": "https://lh3.googleusercontent.com/a/default-user=s64",
      "userId": "12106048683588045750"
     },
     "user_tz": -330
    },
    "id": "IpFBHpKz6bjd"
   },
   "outputs": [],
   "source": [
    "# save the model in a file\n",
    "with open(\"mpg-predictions-model.bin\", 'wb') as f_out:\n",
    "    pickle.dump(final_model, f_out) # write final_model in .bin file\n",
    "    f_out.close()  # close the file "
   ]
  },
  {
   "cell_type": "code",
   "execution_count": 74,
   "metadata": {
    "colab": {
     "base_uri": "https://localhost:8080/"
    },
    "executionInfo": {
     "elapsed": 415,
     "status": "ok",
     "timestamp": 1637388721405,
     "user": {
      "displayName": "Shalu",
      "photoUrl": "https://lh3.googleusercontent.com/a/default-user=s64",
      "userId": "12106048683588045750"
     },
     "user_tz": -330
    },
    "id": "f-c89Sab63l6",
    "outputId": "ca55c24b-5e8c-4198-e545-bb55f6175f74"
   },
   "outputs": [
    {
     "data": {
      "text/plain": [
       "array([32.72333333, 18.11333333, 19.97666667])"
      ]
     },
     "execution_count": 74,
     "metadata": {},
     "output_type": "execute_result"
    }
   ],
   "source": [
    "# loading the model from the saved file\n",
    "with open('mpg-predictions-model.bin', 'rb') as f_in:\n",
    "    model = pickle.load(f_in)\n",
    "\n",
    "predict_mpg(vehicle_config, model)"
   ]
  },
  {
   "cell_type": "markdown",
   "metadata": {
    "id": "i5cl0Idu-RT5"
   },
   "source": [
    "## Making a POST request"
   ]
  },
  {
   "cell_type": "code",
   "execution_count": 74,
   "metadata": {},
   "outputs": [
    {
     "data": {
      "text/plain": [
       "'{\\n  \"mpg_predictions\": [\\n    32.72333333333333, \\n    18.113333333333333, \\n    19.976666666666667\\n  ]\\n}'"
      ]
     },
     "execution_count": 74,
     "metadata": {},
     "output_type": "execute_result"
    }
   ],
   "source": [
    "import requests\n",
    "\n",
    "url = 'http://192.168.0.108:9696/'\n",
    "r = requests.post(url, json=vehicle_config)\n",
    "r.text.strip()"
   ]
  },
  {
   "cell_type": "code",
   "execution_count": null,
   "metadata": {},
   "outputs": [],
   "source": []
  }
 ],
 "metadata": {
  "colab": {
   "authorship_tag": "ABX9TyM89oEDGcahlQK4TLZ66/dX",
   "collapsed_sections": [],
   "name": "fuel-consumption-prediction.ipynb",
   "provenance": []
  },
  "kernelspec": {
   "display_name": "Python 3",
   "language": "python",
   "name": "python3"
  },
  "language_info": {
   "codemirror_mode": {
    "name": "ipython",
    "version": 3
   },
   "file_extension": ".py",
   "mimetype": "text/x-python",
   "name": "python",
   "nbconvert_exporter": "python",
   "pygments_lexer": "ipython3",
   "version": "3.9.6"
  }
 },
 "nbformat": 4,
 "nbformat_minor": 1
}
